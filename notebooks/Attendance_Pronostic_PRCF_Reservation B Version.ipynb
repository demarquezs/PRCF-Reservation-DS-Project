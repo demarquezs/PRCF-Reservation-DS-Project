{
  "cells": [
    {
      "cell_type": "markdown",
      "metadata": {
        "id": "dgQ0wxJ0wi_c"
      },
      "source": [
        "<h1 align=\"center\">MACHINE LEARNING CLASSIFICATION MODEL FOR PCRF RESERVATIONS</h1>"
      ]
    },
    {
      "cell_type": "markdown",
      "metadata": {
        "id": "kTTLulPZwi_f"
      },
      "source": [
        "After viewing and analyzing the data, we can (and should) create a classification Machine Learning model. We need to extract, clean, and process the data to find the best model for the classification job."
      ]
    },
    {
      "cell_type": "markdown",
      "metadata": {
        "id": "R5EPKdZGwi_g"
      },
      "source": [
        "## IMPORTING LIBRARIES"
      ]
    },
    {
      "cell_type": "markdown",
      "metadata": {
        "id": "r1T9y4fowi_h"
      },
      "source": [
        "We'll import the necessary libraries for preprocessing, creating and evaluating the Machine Learning classification model:"
      ]
    },
    {
      "cell_type": "code",
      "execution_count": 1,
      "metadata": {
        "colab": {
          "base_uri": "https://localhost:8080/"
        },
        "id": "9j1laO8kwi_h",
        "outputId": "e97d1687-6a5e-487e-bf12-9b05733a66c0"
      },
      "outputs": [],
      "source": [
        "import os\n",
        "from time import time\n",
        "import numpy as np\n",
        "import pandas as pd\n",
        "import joblib\n",
        "from sklearn.preprocessing import LabelEncoder\n",
        "from sklearn.preprocessing import StandardScaler\n",
        "from sklearn.model_selection import RandomizedSearchCV, TimeSeriesSplit\n",
        "from scipy.stats import randint, uniform\n",
        "from sklearn.linear_model import LinearRegression, Ridge, Lasso, ElasticNet\n",
        "from sklearn.ensemble import RandomForestRegressor\n",
        "from xgboost import XGBRegressor\n",
        "from sklearn.metrics import r2_score\n",
        "import warnings"
      ]
    },
    {
      "cell_type": "code",
      "execution_count": 2,
      "metadata": {
        "id": "UoJ7kIkfwi_j"
      },
      "outputs": [],
      "source": [
        "pd.set_option('display.max_columns', None)"
      ]
    },
    {
      "cell_type": "code",
      "execution_count": 3,
      "metadata": {
        "id": "Gq5WVx7Wwi_k"
      },
      "outputs": [],
      "source": [
        "warnings.filterwarnings(\"ignore\")"
      ]
    },
    {
      "cell_type": "markdown",
      "metadata": {
        "id": "vHwUkqFxwi_l"
      },
      "source": [
        "## EXTRACTING THE DATA"
      ]
    },
    {
      "cell_type": "markdown",
      "metadata": {
        "id": "njnyX9cHwi_m"
      },
      "source": [
        "Let's read df_filtered file for construct our model:"
      ]
    },
    {
      "cell_type": "code",
      "execution_count": 4,
      "metadata": {
        "id": "r6dS6QYYwi_n"
      },
      "outputs": [],
      "source": [
        "project_dir = os.path.abspath(os.path.join(os.getcwd(), os.pardir))\n",
        "data_dir = os.path.join(project_dir, \"data\", \"processed\")\n",
        "path = os.path.join(data_dir, 'df_filtered.csv')\n",
        "df = pd.read_csv(path)"
      ]
    },
    {
      "cell_type": "code",
      "execution_count": 5,
      "metadata": {
        "colab": {
          "base_uri": "https://localhost:8080/",
          "height": 233
        },
        "id": "QdZkYUzAwi_o",
        "outputId": "28be2ffa-f1e6-48ea-8b10-168ccb2d3b89"
      },
      "outputs": [
        {
          "data": {
            "text/html": [
              "<div>\n",
              "<style scoped>\n",
              "    .dataframe tbody tr th:only-of-type {\n",
              "        vertical-align: middle;\n",
              "    }\n",
              "\n",
              "    .dataframe tbody tr th {\n",
              "        vertical-align: top;\n",
              "    }\n",
              "\n",
              "    .dataframe thead th {\n",
              "        text-align: right;\n",
              "    }\n",
              "</style>\n",
              "<table border=\"1\" class=\"dataframe\">\n",
              "  <thead>\n",
              "    <tr style=\"text-align: right;\">\n",
              "      <th></th>\n",
              "      <th>index</th>\n",
              "      <th>facility_name</th>\n",
              "      <th>facility_type</th>\n",
              "      <th>center_longitude</th>\n",
              "      <th>center_latitude</th>\n",
              "      <th>site_name</th>\n",
              "      <th>permit_year</th>\n",
              "      <th>permit_month</th>\n",
              "      <th>event_start_year</th>\n",
              "      <th>event_start_month</th>\n",
              "      <th>event_start_time</th>\n",
              "      <th>day_of_week</th>\n",
              "      <th>attendance</th>\n",
              "      <th>hours_reserved</th>\n",
              "      <th>schedule_type</th>\n",
              "      <th>residency_flag</th>\n",
              "      <th>customer_gender</th>\n",
              "      <th>permit_hour</th>\n",
              "      <th>event_start_mounth_numeric</th>\n",
              "      <th>event_start_day_numeric</th>\n",
              "      <th>event_end_day_numeric</th>\n",
              "      <th>event_duration</th>\n",
              "      <th>day_of_week_numeric</th>\n",
              "      <th>permit_month_numeric</th>\n",
              "    </tr>\n",
              "  </thead>\n",
              "  <tbody>\n",
              "    <tr>\n",
              "      <th>205276</th>\n",
              "      <td>205276</td>\n",
              "      <td>Rhodes Jr Baseball Field 1</td>\n",
              "      <td>Field - Baseball - School</td>\n",
              "      <td>-111.870846</td>\n",
              "      <td>33.380157</td>\n",
              "      <td>Schools</td>\n",
              "      <td>2014</td>\n",
              "      <td>December</td>\n",
              "      <td>2015</td>\n",
              "      <td>March</td>\n",
              "      <td>1900-01-01 18:00:00</td>\n",
              "      <td>Tuesday</td>\n",
              "      <td>25</td>\n",
              "      <td>4.00</td>\n",
              "      <td>Reservation: Non-Billable</td>\n",
              "      <td>True</td>\n",
              "      <td>Male</td>\n",
              "      <td>13</td>\n",
              "      <td>3</td>\n",
              "      <td>17</td>\n",
              "      <td>17</td>\n",
              "      <td>4.00</td>\n",
              "      <td>2</td>\n",
              "      <td>12</td>\n",
              "    </tr>\n",
              "    <tr>\n",
              "      <th>312026</th>\n",
              "      <td>312026</td>\n",
              "      <td>Group Fitness</td>\n",
              "      <td>Room - Fitness</td>\n",
              "      <td>-111.662972</td>\n",
              "      <td>33.432725</td>\n",
              "      <td>Recreation Centers</td>\n",
              "      <td>2015</td>\n",
              "      <td>April</td>\n",
              "      <td>2015</td>\n",
              "      <td>June</td>\n",
              "      <td>1900-01-01 11:00:00</td>\n",
              "      <td>Tuesday</td>\n",
              "      <td>15</td>\n",
              "      <td>0.75</td>\n",
              "      <td>Reservation: Internal</td>\n",
              "      <td>False</td>\n",
              "      <td>Female</td>\n",
              "      <td>15</td>\n",
              "      <td>6</td>\n",
              "      <td>30</td>\n",
              "      <td>30</td>\n",
              "      <td>0.75</td>\n",
              "      <td>2</td>\n",
              "      <td>4</td>\n",
              "    </tr>\n",
              "    <tr>\n",
              "      <th>4834</th>\n",
              "      <td>4834</td>\n",
              "      <td>Pickleball Court 01</td>\n",
              "      <td>Court - Pickleball</td>\n",
              "      <td>-111.741478</td>\n",
              "      <td>33.449963</td>\n",
              "      <td>Mesa Tennis &amp; Pickleball Center</td>\n",
              "      <td>2022</td>\n",
              "      <td>January</td>\n",
              "      <td>2022</td>\n",
              "      <td>February</td>\n",
              "      <td>1900-01-01 16:30:00</td>\n",
              "      <td>Wednesday</td>\n",
              "      <td>4</td>\n",
              "      <td>1.00</td>\n",
              "      <td>Reservation: Billable</td>\n",
              "      <td>True</td>\n",
              "      <td>Female</td>\n",
              "      <td>16</td>\n",
              "      <td>2</td>\n",
              "      <td>2</td>\n",
              "      <td>2</td>\n",
              "      <td>1.00</td>\n",
              "      <td>3</td>\n",
              "      <td>1</td>\n",
              "    </tr>\n",
              "  </tbody>\n",
              "</table>\n",
              "</div>"
            ],
            "text/plain": [
              "         index               facility_name              facility_type  \\\n",
              "205276  205276  Rhodes Jr Baseball Field 1  Field - Baseball - School   \n",
              "312026  312026               Group Fitness             Room - Fitness   \n",
              "4834      4834         Pickleball Court 01         Court - Pickleball   \n",
              "\n",
              "        center_longitude  center_latitude                        site_name  \\\n",
              "205276       -111.870846        33.380157                          Schools   \n",
              "312026       -111.662972        33.432725               Recreation Centers   \n",
              "4834         -111.741478        33.449963  Mesa Tennis & Pickleball Center   \n",
              "\n",
              "        permit_year permit_month  event_start_year event_start_month  \\\n",
              "205276         2014     December              2015             March   \n",
              "312026         2015        April              2015              June   \n",
              "4834           2022      January              2022          February   \n",
              "\n",
              "           event_start_time day_of_week  attendance  hours_reserved  \\\n",
              "205276  1900-01-01 18:00:00     Tuesday          25            4.00   \n",
              "312026  1900-01-01 11:00:00     Tuesday          15            0.75   \n",
              "4834    1900-01-01 16:30:00   Wednesday           4            1.00   \n",
              "\n",
              "                    schedule_type  residency_flag customer_gender  \\\n",
              "205276  Reservation: Non-Billable            True            Male   \n",
              "312026      Reservation: Internal           False          Female   \n",
              "4834        Reservation: Billable            True          Female   \n",
              "\n",
              "        permit_hour  event_start_mounth_numeric  event_start_day_numeric  \\\n",
              "205276           13                           3                       17   \n",
              "312026           15                           6                       30   \n",
              "4834             16                           2                        2   \n",
              "\n",
              "        event_end_day_numeric  event_duration  day_of_week_numeric  \\\n",
              "205276                     17            4.00                    2   \n",
              "312026                     30            0.75                    2   \n",
              "4834                        2            1.00                    3   \n",
              "\n",
              "        permit_month_numeric  \n",
              "205276                    12  \n",
              "312026                     4  \n",
              "4834                       1  "
            ]
          },
          "execution_count": 5,
          "metadata": {},
          "output_type": "execute_result"
        }
      ],
      "source": [
        "df.sample(3)"
      ]
    },
    {
      "cell_type": "code",
      "execution_count": 6,
      "metadata": {
        "colab": {
          "base_uri": "https://localhost:8080/"
        },
        "id": "EMGyqzM0wi_p",
        "outputId": "a4983f42-44d0-43a2-e9bb-f59db7b3daa4"
      },
      "outputs": [
        {
          "data": {
            "text/plain": [
              "(434216, 24)"
            ]
          },
          "execution_count": 6,
          "metadata": {},
          "output_type": "execute_result"
        }
      ],
      "source": [
        "df.shape"
      ]
    },
    {
      "cell_type": "markdown",
      "metadata": {
        "id": "5RF8-j30wi_q"
      },
      "source": [
        "## DATA PREPROCESSING"
      ]
    },
    {
      "cell_type": "markdown",
      "metadata": {
        "id": "Ehe-8213wi_q"
      },
      "source": [
        "For our model, we need to drop the columns that don't add value, reduce the outliers, transform the numeric variables to categorical, and reduce variable dimensions"
      ]
    },
    {
      "cell_type": "markdown",
      "metadata": {
        "id": "4OfoXFXdwi_r"
      },
      "source": [
        "### DROPING THE COLUMNS"
      ]
    },
    {
      "cell_type": "markdown",
      "metadata": {
        "id": "-ainITxswi_r"
      },
      "source": [
        "Let's see the columns (again):"
      ]
    },
    {
      "cell_type": "code",
      "execution_count": 7,
      "metadata": {
        "colab": {
          "base_uri": "https://localhost:8080/",
          "height": 215
        },
        "id": "IZEKnS_Lwi_s",
        "outputId": "2451c18d-359d-4151-aad1-4461a257d699"
      },
      "outputs": [
        {
          "data": {
            "text/html": [
              "<div>\n",
              "<style scoped>\n",
              "    .dataframe tbody tr th:only-of-type {\n",
              "        vertical-align: middle;\n",
              "    }\n",
              "\n",
              "    .dataframe tbody tr th {\n",
              "        vertical-align: top;\n",
              "    }\n",
              "\n",
              "    .dataframe thead th {\n",
              "        text-align: right;\n",
              "    }\n",
              "</style>\n",
              "<table border=\"1\" class=\"dataframe\">\n",
              "  <thead>\n",
              "    <tr style=\"text-align: right;\">\n",
              "      <th></th>\n",
              "      <th>index</th>\n",
              "      <th>facility_name</th>\n",
              "      <th>facility_type</th>\n",
              "      <th>center_longitude</th>\n",
              "      <th>center_latitude</th>\n",
              "      <th>site_name</th>\n",
              "      <th>permit_year</th>\n",
              "      <th>permit_month</th>\n",
              "      <th>event_start_year</th>\n",
              "      <th>event_start_month</th>\n",
              "      <th>event_start_time</th>\n",
              "      <th>day_of_week</th>\n",
              "      <th>attendance</th>\n",
              "      <th>hours_reserved</th>\n",
              "      <th>schedule_type</th>\n",
              "      <th>residency_flag</th>\n",
              "      <th>customer_gender</th>\n",
              "      <th>permit_hour</th>\n",
              "      <th>event_start_mounth_numeric</th>\n",
              "      <th>event_start_day_numeric</th>\n",
              "      <th>event_end_day_numeric</th>\n",
              "      <th>event_duration</th>\n",
              "      <th>day_of_week_numeric</th>\n",
              "      <th>permit_month_numeric</th>\n",
              "    </tr>\n",
              "  </thead>\n",
              "  <tbody>\n",
              "    <tr>\n",
              "      <th>0</th>\n",
              "      <td>0</td>\n",
              "      <td>Group Fitness</td>\n",
              "      <td>Room - Fitness</td>\n",
              "      <td>-111.662972</td>\n",
              "      <td>33.432725</td>\n",
              "      <td>Recreation Centers</td>\n",
              "      <td>2019</td>\n",
              "      <td>June</td>\n",
              "      <td>2022</td>\n",
              "      <td>January</td>\n",
              "      <td>1900-01-01 10:00:00</td>\n",
              "      <td>Thursday</td>\n",
              "      <td>1</td>\n",
              "      <td>1.00</td>\n",
              "      <td>Reservation: Internal</td>\n",
              "      <td>False</td>\n",
              "      <td>Mixed</td>\n",
              "      <td>14</td>\n",
              "      <td>1</td>\n",
              "      <td>27</td>\n",
              "      <td>27</td>\n",
              "      <td>1.00</td>\n",
              "      <td>4</td>\n",
              "      <td>6</td>\n",
              "    </tr>\n",
              "    <tr>\n",
              "      <th>1</th>\n",
              "      <td>1</td>\n",
              "      <td>Group Fitness</td>\n",
              "      <td>Room - Fitness</td>\n",
              "      <td>-111.662972</td>\n",
              "      <td>33.432725</td>\n",
              "      <td>Recreation Centers</td>\n",
              "      <td>2019</td>\n",
              "      <td>June</td>\n",
              "      <td>2022</td>\n",
              "      <td>January</td>\n",
              "      <td>1900-01-01 11:00:00</td>\n",
              "      <td>Thursday</td>\n",
              "      <td>1</td>\n",
              "      <td>0.75</td>\n",
              "      <td>Reservation: Internal</td>\n",
              "      <td>False</td>\n",
              "      <td>Mixed</td>\n",
              "      <td>14</td>\n",
              "      <td>1</td>\n",
              "      <td>27</td>\n",
              "      <td>27</td>\n",
              "      <td>0.75</td>\n",
              "      <td>4</td>\n",
              "      <td>6</td>\n",
              "    </tr>\n",
              "    <tr>\n",
              "      <th>2</th>\n",
              "      <td>2</td>\n",
              "      <td>Group Fitness</td>\n",
              "      <td>Room - Fitness</td>\n",
              "      <td>-111.662972</td>\n",
              "      <td>33.432725</td>\n",
              "      <td>Recreation Centers</td>\n",
              "      <td>2019</td>\n",
              "      <td>June</td>\n",
              "      <td>2022</td>\n",
              "      <td>January</td>\n",
              "      <td>1900-01-01 12:00:00</td>\n",
              "      <td>Thursday</td>\n",
              "      <td>1</td>\n",
              "      <td>0.75</td>\n",
              "      <td>Reservation: Internal</td>\n",
              "      <td>False</td>\n",
              "      <td>Mixed</td>\n",
              "      <td>14</td>\n",
              "      <td>1</td>\n",
              "      <td>27</td>\n",
              "      <td>27</td>\n",
              "      <td>0.75</td>\n",
              "      <td>4</td>\n",
              "      <td>6</td>\n",
              "    </tr>\n",
              "  </tbody>\n",
              "</table>\n",
              "</div>"
            ],
            "text/plain": [
              "   index  facility_name   facility_type  center_longitude  center_latitude  \\\n",
              "0      0  Group Fitness  Room - Fitness       -111.662972        33.432725   \n",
              "1      1  Group Fitness  Room - Fitness       -111.662972        33.432725   \n",
              "2      2  Group Fitness  Room - Fitness       -111.662972        33.432725   \n",
              "\n",
              "            site_name  permit_year permit_month  event_start_year  \\\n",
              "0  Recreation Centers         2019         June              2022   \n",
              "1  Recreation Centers         2019         June              2022   \n",
              "2  Recreation Centers         2019         June              2022   \n",
              "\n",
              "  event_start_month     event_start_time day_of_week  attendance  \\\n",
              "0           January  1900-01-01 10:00:00    Thursday           1   \n",
              "1           January  1900-01-01 11:00:00    Thursday           1   \n",
              "2           January  1900-01-01 12:00:00    Thursday           1   \n",
              "\n",
              "   hours_reserved          schedule_type  residency_flag customer_gender  \\\n",
              "0            1.00  Reservation: Internal           False           Mixed   \n",
              "1            0.75  Reservation: Internal           False           Mixed   \n",
              "2            0.75  Reservation: Internal           False           Mixed   \n",
              "\n",
              "   permit_hour  event_start_mounth_numeric  event_start_day_numeric  \\\n",
              "0           14                           1                       27   \n",
              "1           14                           1                       27   \n",
              "2           14                           1                       27   \n",
              "\n",
              "   event_end_day_numeric  event_duration  day_of_week_numeric  \\\n",
              "0                     27            1.00                    4   \n",
              "1                     27            0.75                    4   \n",
              "2                     27            0.75                    4   \n",
              "\n",
              "   permit_month_numeric  \n",
              "0                     6  \n",
              "1                     6  \n",
              "2                     6  "
            ]
          },
          "execution_count": 7,
          "metadata": {},
          "output_type": "execute_result"
        }
      ],
      "source": [
        "df.head(3)"
      ]
    },
    {
      "cell_type": "markdown",
      "metadata": {
        "id": "ATBYAaQiwi_s"
      },
      "source": [
        "The columns 'index', 'facility_name', 'site_name, 'permit_year', 'permit_month', 'permit_hour', 'event_start_time', 'event_start_year', 'event_start_month','event_end_time', 'event_start_day_numeric', 'event_end_day_numeric', 'day_of_week',and  'permit_month_numeric' don't add value to the model, so we can drop them:"
      ]
    },
    {
      "cell_type": "code",
      "execution_count": 8,
      "metadata": {
        "id": "-kIe3VqQwi_t"
      },
      "outputs": [],
      "source": [
        "df.drop(columns = ['index', 'facility_name','site_name', 'event_start_time', 'event_start_month', 'permit_month',\n",
        "                    'event_start_day_numeric', 'event_end_day_numeric', 'day_of_week'], inplace=True)"
      ]
    },
    {
      "cell_type": "markdown",
      "metadata": {
        "id": "bzjwwusLwi_t"
      },
      "source": [
        "### REDUCING OUTLIERS"
      ]
    },
    {
      "cell_type": "markdown",
      "metadata": {
        "id": "ZPOpnCh7wi_u"
      },
      "source": [
        "In the EDA, we found that 'hours_reserved' has outliers that are greater than 22 hours. We can revisit this issue and remove these records (again)  :"
      ]
    },
    {
      "cell_type": "code",
      "execution_count": 9,
      "metadata": {
        "colab": {
          "base_uri": "https://localhost:8080/"
        },
        "id": "uibyBLgywi_u",
        "outputId": "dfa0063d-fa1d-4afd-b031-0fba9cbb94df"
      },
      "outputs": [
        {
          "data": {
            "text/plain": [
              "(434197, 15)"
            ]
          },
          "execution_count": 9,
          "metadata": {},
          "output_type": "execute_result"
        }
      ],
      "source": [
        "df_2 = df[df['hours_reserved']<=20]\n",
        "df_2.shape"
      ]
    },
    {
      "cell_type": "markdown",
      "metadata": {
        "id": "CAZRhKEywi_u"
      },
      "source": [
        "In the same way, we can use the attendance filter extrating records smaller than 100:\n"
      ]
    },
    {
      "cell_type": "code",
      "execution_count": 10,
      "metadata": {
        "colab": {
          "base_uri": "https://localhost:8080/"
        },
        "id": "GHP-DrFnwi_v",
        "outputId": "894d278a-553c-4275-abff-042f6ccb711e"
      },
      "outputs": [
        {
          "data": {
            "text/plain": [
              "(373533, 15)"
            ]
          },
          "execution_count": 10,
          "metadata": {},
          "output_type": "execute_result"
        }
      ],
      "source": [
        "df_3 = df_2[df_2['attendance']<=50]\n",
        "df_3.shape"
      ]
    },
    {
      "cell_type": "markdown",
      "metadata": {
        "id": "zlhZrH74wi_v"
      },
      "source": [
        "### TRANSFORMING IN NUMERIC VALUES"
      ]
    },
    {
      "cell_type": "markdown",
      "metadata": {
        "id": "vz600grEwi_w"
      },
      "source": [
        "In order not to make the dataset bigger, we will use Label Encoding functionality:"
      ]
    },
    {
      "cell_type": "code",
      "execution_count": 11,
      "metadata": {
        "id": "J3RPHdPQwi_w"
      },
      "outputs": [],
      "source": [
        "le= LabelEncoder()"
      ]
    },
    {
      "cell_type": "code",
      "execution_count": 12,
      "metadata": {
        "id": "SZPrryCEwi_w"
      },
      "outputs": [],
      "source": [
        "def label_encoder_function(dataframe, column):\n",
        "    column_encoded = le.fit_transform(dataframe[column])\n",
        "    return column_encoded\n",
        "\n",
        "def add_nwe_column(dataframe, column):\n",
        "    dataframe.loc[:,f'{column}_numeric']= label_encoder_function(dataframe, column)\n",
        "    return dataframe"
      ]
    },
    {
      "cell_type": "code",
      "execution_count": 13,
      "metadata": {
        "colab": {
          "base_uri": "https://localhost:8080/"
        },
        "id": "b_9dvUazwi_x",
        "outputId": "86d7f626-68a0-4e45-a140-2535e270a069"
      },
      "outputs": [
        {
          "data": {
            "text/plain": [
              "(373533, 19)"
            ]
          },
          "execution_count": 13,
          "metadata": {},
          "output_type": "execute_result"
        }
      ],
      "source": [
        "add_nwe_column(df_3, 'facility_type')\n",
        "add_nwe_column(df_3, 'schedule_type')\n",
        "add_nwe_column(df_3, 'residency_flag')\n",
        "add_nwe_column(df_3, 'customer_gender')\n",
        "df_3.shape"
      ]
    },
    {
      "cell_type": "markdown",
      "metadata": {
        "id": "K_X8et_owi_x"
      },
      "source": [
        "Now we must drop the old ones:"
      ]
    },
    {
      "cell_type": "code",
      "execution_count": 14,
      "metadata": {
        "colab": {
          "base_uri": "https://localhost:8080/"
        },
        "id": "bYPJjfsNwi_y",
        "outputId": "343adbbe-6441-4771-9c47-303a4cba9939"
      },
      "outputs": [
        {
          "data": {
            "text/plain": [
              "(373533, 15)"
            ]
          },
          "execution_count": 14,
          "metadata": {},
          "output_type": "execute_result"
        }
      ],
      "source": [
        "df_3 = df_3.drop(columns=['facility_type', 'schedule_type', 'residency_flag', 'customer_gender'])\n",
        "df_3.shape"
      ]
    },
    {
      "cell_type": "code",
      "execution_count": 15,
      "metadata": {
        "colab": {
          "base_uri": "https://localhost:8080/",
          "height": 163
        },
        "id": "hPcKZfjLAgOA",
        "outputId": "735ccf34-b9ed-4e53-b552-48f83c832c8a"
      },
      "outputs": [
        {
          "data": {
            "text/html": [
              "<div>\n",
              "<style scoped>\n",
              "    .dataframe tbody tr th:only-of-type {\n",
              "        vertical-align: middle;\n",
              "    }\n",
              "\n",
              "    .dataframe tbody tr th {\n",
              "        vertical-align: top;\n",
              "    }\n",
              "\n",
              "    .dataframe thead th {\n",
              "        text-align: right;\n",
              "    }\n",
              "</style>\n",
              "<table border=\"1\" class=\"dataframe\">\n",
              "  <thead>\n",
              "    <tr style=\"text-align: right;\">\n",
              "      <th></th>\n",
              "      <th>center_longitude</th>\n",
              "      <th>center_latitude</th>\n",
              "      <th>permit_year</th>\n",
              "      <th>event_start_year</th>\n",
              "      <th>attendance</th>\n",
              "      <th>hours_reserved</th>\n",
              "      <th>permit_hour</th>\n",
              "      <th>event_start_mounth_numeric</th>\n",
              "      <th>event_duration</th>\n",
              "      <th>day_of_week_numeric</th>\n",
              "      <th>permit_month_numeric</th>\n",
              "      <th>facility_type_numeric</th>\n",
              "      <th>schedule_type_numeric</th>\n",
              "      <th>residency_flag_numeric</th>\n",
              "      <th>customer_gender_numeric</th>\n",
              "    </tr>\n",
              "  </thead>\n",
              "  <tbody>\n",
              "    <tr>\n",
              "      <th>5254</th>\n",
              "      <td>-111.741478</td>\n",
              "      <td>33.449963</td>\n",
              "      <td>2022</td>\n",
              "      <td>2022</td>\n",
              "      <td>2</td>\n",
              "      <td>0.5</td>\n",
              "      <td>16</td>\n",
              "      <td>2</td>\n",
              "      <td>0.5</td>\n",
              "      <td>4</td>\n",
              "      <td>2</td>\n",
              "      <td>11</td>\n",
              "      <td>0</td>\n",
              "      <td>1</td>\n",
              "      <td>3</td>\n",
              "    </tr>\n",
              "    <tr>\n",
              "      <th>31123</th>\n",
              "      <td>-111.740991</td>\n",
              "      <td>33.477355</td>\n",
              "      <td>2022</td>\n",
              "      <td>2022</td>\n",
              "      <td>50</td>\n",
              "      <td>4.0</td>\n",
              "      <td>14</td>\n",
              "      <td>8</td>\n",
              "      <td>4.0</td>\n",
              "      <td>3</td>\n",
              "      <td>7</td>\n",
              "      <td>25</td>\n",
              "      <td>0</td>\n",
              "      <td>0</td>\n",
              "      <td>2</td>\n",
              "    </tr>\n",
              "    <tr>\n",
              "      <th>263939</th>\n",
              "      <td>-111.741478</td>\n",
              "      <td>33.449963</td>\n",
              "      <td>2017</td>\n",
              "      <td>2018</td>\n",
              "      <td>50</td>\n",
              "      <td>15.0</td>\n",
              "      <td>10</td>\n",
              "      <td>6</td>\n",
              "      <td>15.0</td>\n",
              "      <td>7</td>\n",
              "      <td>12</td>\n",
              "      <td>17</td>\n",
              "      <td>1</td>\n",
              "      <td>0</td>\n",
              "      <td>2</td>\n",
              "    </tr>\n",
              "  </tbody>\n",
              "</table>\n",
              "</div>"
            ],
            "text/plain": [
              "        center_longitude  center_latitude  permit_year  event_start_year  \\\n",
              "5254         -111.741478        33.449963         2022              2022   \n",
              "31123        -111.740991        33.477355         2022              2022   \n",
              "263939       -111.741478        33.449963         2017              2018   \n",
              "\n",
              "        attendance  hours_reserved  permit_hour  event_start_mounth_numeric  \\\n",
              "5254             2             0.5           16                           2   \n",
              "31123           50             4.0           14                           8   \n",
              "263939          50            15.0           10                           6   \n",
              "\n",
              "        event_duration  day_of_week_numeric  permit_month_numeric  \\\n",
              "5254               0.5                    4                     2   \n",
              "31123              4.0                    3                     7   \n",
              "263939            15.0                    7                    12   \n",
              "\n",
              "        facility_type_numeric  schedule_type_numeric  residency_flag_numeric  \\\n",
              "5254                       11                      0                       1   \n",
              "31123                      25                      0                       0   \n",
              "263939                     17                      1                       0   \n",
              "\n",
              "        customer_gender_numeric  \n",
              "5254                          3  \n",
              "31123                         2  \n",
              "263939                        2  "
            ]
          },
          "execution_count": 15,
          "metadata": {},
          "output_type": "execute_result"
        }
      ],
      "source": [
        "df_3.sample(3)"
      ]
    },
    {
      "cell_type": "markdown",
      "metadata": {
        "id": "QYV96GTMwjAD"
      },
      "source": [
        "## GENERATING A PRONOSTIC MACHINE LEARNING MODEL"
      ]
    },
    {
      "cell_type": "markdown",
      "metadata": {
        "id": "WFxS_0Z6wi_z"
      },
      "source": [
        "### FUNCTION TO PREPARE DATA"
      ]
    },
    {
      "cell_type": "markdown",
      "metadata": {
        "id": "rmJ7jc8o7pF3"
      },
      "source": [
        "We'll create a function that standardizes the scale, divide data ofr train and test, trains models, splits the data for time series giving weights to the splits (giving more weight to the most recent splits), evaluates the models using these splits and selects (and save) the best model:"
      ]
    },
    {
      "cell_type": "code",
      "execution_count": null,
      "metadata": {
        "id": "dli9QDXcaOeh"
      },
      "outputs": [],
      "source": [
        "def tscv_with_weighted_best_model(df, date_column, n_splits, target_column, models, n_iter, param_distributions):\n",
        "    \n",
        "    df = df.sort_values(by=date_column, ascending=True)\n",
        "    \n",
        "    \n",
        "    train_size = int(len(df) * 0.7)\n",
        "    train_df = df.iloc[:train_size]\n",
        "    val_df = df.iloc[train_size:]\n",
        "    \n",
        "    \n",
        "    X_train = train_df.drop(columns=[target_column])\n",
        "    y_train = train_df[target_column]\n",
        "    \n",
        "    \n",
        "    X_val = val_df.drop(columns=[target_column])\n",
        "    y_val = val_df[target_column]\n",
        "    \n",
        "    \n",
        "    scaler = StandardScaler()\n",
        "    X_train = scaler.fit_transform(X_train)\n",
        "    X_val = scaler.transform(X_val)\n",
        "    \n",
        "    \n",
        "    tscv = TimeSeriesSplit(n_splits=n_splits)\n",
        "    \n",
        "    best_models = {}\n",
        "    weights = np.linspace(0, 1, num=n_splits)  \n",
        "    weighted_scores = {}\n",
        "    start_time = time()\n",
        "    print(\"Starting models training and evaluation with TimeSeriesSplit\")\n",
        "    \n",
        "    for name, model in models.items():\n",
        "        print(f\"\\nTraining and Evaluating {name}:\")\n",
        "        \n",
        "        search = RandomizedSearchCV(model, param_distributions=param_distributions[name], \n",
        "                                  n_iter=n_iter, scoring='r2', cv=tscv, n_jobs=-1)\n",
        "        search.fit(X_train, y_train)\n",
        "        best_models[name] = search.best_estimator_\n",
        "        print(f\"Best params for {name}: {search.best_params_}\")\n",
        "        \n",
        "       \n",
        "        split_scores = []\n",
        "        for i, (train_idx, test_idx) in enumerate(tscv.split(X_val)):\n",
        "            X_val_train, X_val_test = X_val[train_idx], X_val[test_idx]\n",
        "            y_val_train, y_val_test = y_val.iloc[train_idx], y_val.iloc[test_idx]\n",
        "            best_model = best_models[name]  \n",
        "            best_model.fit(X_val_train, y_val_train)\n",
        "            preds = best_model.predict(X_val_test)\n",
        "            score = r2_score(y_val_test, preds)\n",
        "            split_scores.append(score * weights[i])\n",
        "    \n",
        "        weighted_scores[name] = np.sum(split_scores) / np.sum(weights)\n",
        "        print(f\"Weighted R² Score for {name}: {weighted_scores[name]:.4f}\")\n",
        "    \n",
        "    \n",
        "    final_model_name = max(weighted_scores, key=weighted_scores.get)\n",
        "    final_model = best_models[final_model_name]\n",
        "    \n",
        "    end_time = time()\n",
        "    print(f\"\\nFinal selected model: {final_model_name} with weighted R² Score: {weighted_scores[final_model_name]:.4f}\")\n",
        "    print(f\"Total training time: {end_time - start_time:.2f} seconds\")\n",
        "    \n",
        "    \n",
        "    project_dir = os.path.abspath(os.path.join(os.getcwd(), os.pardir))\n",
        "    model_dir = os.path.join(project_dir, \"models\")\n",
        "    os.makedirs(model_dir, exist_ok=True)\n",
        "    \n",
        "    best_model_path = os.path.join(model_dir, \"best_model.pkl\")\n",
        "    joblib.dump(final_model, best_model_path)\n",
        "    print(f\"✅ Model saved in: {best_model_path}\")\n",
        "    \n",
        "    return final_model"
      ]
    },
    {
      "cell_type": "markdown",
      "metadata": {
        "id": "dlb9UiASwjAD"
      },
      "source": [
        "We'll create a function that uses several machine learning regression models to find the best fit without presenting overfitting:"
      ]
    },
    {
      "cell_type": "markdown",
      "metadata": {
        "id": "vv1WdViEwjAE"
      },
      "source": [
        "Now, let's define the models and their hyperparameter search spaces:"
      ]
    },
    {
      "cell_type": "code",
      "execution_count": 17,
      "metadata": {
        "id": "Qzva3jOsWqMJ"
      },
      "outputs": [],
      "source": [
        "model_params = {\n",
        "    'LinearRegression': {},\n",
        "\n",
        "    'Ridge': {\n",
        "        'alpha': uniform(0.1, 10),\n",
        "        'solver': ['auto', 'svd', 'lsqr', 'sparse_cg', 'sag'],\n",
        "        'max_iter': randint(100, 1000),\n",
        "        'tol': uniform(1e-6, 1e-2),\n",
        "    },\n",
        "\n",
        "    'Lasso': {\n",
        "        'alpha': uniform(0.1, 10),\n",
        "        'tol': uniform(1e-6, 1e-2),\n",
        "        'selection': ['cyclic', 'random']\n",
        "    },\n",
        "\n",
        "    'ElasticNet': {\n",
        "        'alpha': uniform(0.1, 10),\n",
        "        'l1_ratio': uniform(0, 1),\n",
        "        'tol': uniform(1e-6, 1e-2),\n",
        "        'selection': ['cyclic', 'random']\n",
        "    },\n",
        "    'RandomForestRegressor': {\n",
        "        'n_estimators': randint(50, 500),\n",
        "        'max_depth': randint(10, 100),\n",
        "        'min_samples_split': randint(2, 20),\n",
        "        'min_samples_leaf': randint(1, 10),\n",
        "        'max_features': ['sqrt', 'log2'],\n",
        "    },\n",
        "\n",
        "    'XGBRegressor': {\n",
        "        'n_estimators': randint(50, 500),\n",
        "        'learning_rate': uniform(0.01, 0.3),\n",
        "        'max_depth': randint(3, 10),\n",
        "        'min_child_weight': randint(1, 10),\n",
        "        'gamma': uniform(0, 1),\n",
        "        'subsample': uniform(0.1, 1),\n",
        "        'colsample_bytree': uniform(0.1,0.8),\n",
        "        'reg_alpha': uniform(0, 1),\n",
        "        'reg_lambda': uniform(0, 1),\n",
        "    }\n",
        "\n",
        "}\n",
        "\n",
        "models={'LinearRegression': LinearRegression(),\n",
        "        'Ridge': Ridge(random_state=42),        \n",
        "        'Lasso': Lasso(random_state=42),\n",
        "        'ElasticNet': ElasticNet(random_state=42),\n",
        "        'RandomForestRegressor': RandomForestRegressor(random_state=42),\n",
        "        'XGBRegressor': XGBRegressor(tree_method='gpu_hist', device='cuda:0',random_state=42)\n",
        "         }"
      ]
    },
    {
      "cell_type": "markdown",
      "metadata": {
        "id": "0MBO8crlwjAF"
      },
      "source": [
        "Now, let's train and evaluate the models to find the best model. For training time series models, we must remove the first and last years to have complete data:"
      ]
    },
    {
      "cell_type": "code",
      "execution_count": 18,
      "metadata": {},
      "outputs": [
        {
          "name": "stdout",
          "output_type": "stream",
          "text": [
            "event_start_year\n",
            "2023    57577\n",
            "2022    55407\n",
            "2021    52674\n",
            "2019    35149\n",
            "2015    32795\n",
            "2020    31327\n",
            "2016    30875\n",
            "2017    28970\n",
            "2018    27735\n",
            "Name: count, dtype: int64\n"
          ]
        }
      ],
      "source": [
        "df_to_ml = df_3[(df_3[\"event_start_year\"] > 2014) & (df_3[\"event_start_year\"] < 2024)]\n",
        "print(df_to_ml[\"event_start_year\"].value_counts())"
      ]
    },
    {
      "cell_type": "code",
      "execution_count": 19,
      "metadata": {},
      "outputs": [
        {
          "data": {
            "text/plain": [
              "(352509, 15)"
            ]
          },
          "execution_count": 19,
          "metadata": {},
          "output_type": "execute_result"
        }
      ],
      "source": [
        "df_to_ml.shape"
      ]
    },
    {
      "cell_type": "markdown",
      "metadata": {},
      "source": [
        "We have to use fewer iterations to find the best model using the created function:"
      ]
    },
    {
      "cell_type": "code",
      "execution_count": 20,
      "metadata": {},
      "outputs": [
        {
          "name": "stdout",
          "output_type": "stream",
          "text": [
            "Data size: 352509\n",
            "Number of iterations: 2\n",
            "Starting models training and evaluation with TimeSeriesSplit\n",
            "\n",
            "Training and Evaluating LinearRegression:\n",
            "Best params for LinearRegression: {}\n",
            "Weighted R² Score for LinearRegression: -2505.7225\n",
            "\n",
            "Training and Evaluating Ridge:\n",
            "Best params for Ridge: {'alpha': 5.5192584758866845, 'max_iter': 482, 'solver': 'auto', 'tol': 0.005831290513035292}\n",
            "Weighted R² Score for Ridge: 0.2482\n",
            "\n",
            "Training and Evaluating Lasso:\n",
            "Best params for Lasso: {'alpha': 2.713162566038807, 'selection': 'random', 'tol': 0.009068099745272395}\n",
            "Weighted R² Score for Lasso: 0.1422\n",
            "\n",
            "Training and Evaluating ElasticNet:\n",
            "Best params for ElasticNet: {'alpha': 1.981815799698885, 'l1_ratio': 0.37138621243224035, 'selection': 'random', 'tol': 0.005332039465657486}\n",
            "Weighted R² Score for ElasticNet: 0.1656\n",
            "\n",
            "Training and Evaluating RandomForestRegressor:\n",
            "Best params for RandomForestRegressor: {'max_depth': 78, 'max_features': 'sqrt', 'min_samples_leaf': 2, 'min_samples_split': 12, 'n_estimators': 172}\n",
            "Weighted R² Score for RandomForestRegressor: 0.8543\n",
            "\n",
            "Training and Evaluating XGBRegressor:\n",
            "Best params for XGBRegressor: {'colsample_bytree': 0.2694082909188522, 'gamma': 0.48092047074220223, 'learning_rate': 0.178811039773902, 'max_depth': 5, 'min_child_weight': 5, 'n_estimators': 85, 'reg_alpha': 0.7118036341836556, 'reg_lambda': 0.5860360875301163, 'subsample': 0.5260011372538939}\n",
            "Weighted R² Score for XGBRegressor: 0.7505\n",
            "\n",
            "Final selected model: RandomForestRegressor with weighted R² Score: 0.8543\n",
            "Total training time: 139.96 seconds\n",
            "✅ Model saved in: c:\\Users\\ingde\\Documents\\DAP\\PRCF_Reservation\\models\\best_model.pkl\n"
          ]
        },
        {
          "data": {
            "text/html": [
              "<style>#sk-container-id-1 {color: black;}#sk-container-id-1 pre{padding: 0;}#sk-container-id-1 div.sk-toggleable {background-color: white;}#sk-container-id-1 label.sk-toggleable__label {cursor: pointer;display: block;width: 100%;margin-bottom: 0;padding: 0.3em;box-sizing: border-box;text-align: center;}#sk-container-id-1 label.sk-toggleable__label-arrow:before {content: \"▸\";float: left;margin-right: 0.25em;color: #696969;}#sk-container-id-1 label.sk-toggleable__label-arrow:hover:before {color: black;}#sk-container-id-1 div.sk-estimator:hover label.sk-toggleable__label-arrow:before {color: black;}#sk-container-id-1 div.sk-toggleable__content {max-height: 0;max-width: 0;overflow: hidden;text-align: left;background-color: #f0f8ff;}#sk-container-id-1 div.sk-toggleable__content pre {margin: 0.2em;color: black;border-radius: 0.25em;background-color: #f0f8ff;}#sk-container-id-1 input.sk-toggleable__control:checked~div.sk-toggleable__content {max-height: 200px;max-width: 100%;overflow: auto;}#sk-container-id-1 input.sk-toggleable__control:checked~label.sk-toggleable__label-arrow:before {content: \"▾\";}#sk-container-id-1 div.sk-estimator input.sk-toggleable__control:checked~label.sk-toggleable__label {background-color: #d4ebff;}#sk-container-id-1 div.sk-label input.sk-toggleable__control:checked~label.sk-toggleable__label {background-color: #d4ebff;}#sk-container-id-1 input.sk-hidden--visually {border: 0;clip: rect(1px 1px 1px 1px);clip: rect(1px, 1px, 1px, 1px);height: 1px;margin: -1px;overflow: hidden;padding: 0;position: absolute;width: 1px;}#sk-container-id-1 div.sk-estimator {font-family: monospace;background-color: #f0f8ff;border: 1px dotted black;border-radius: 0.25em;box-sizing: border-box;margin-bottom: 0.5em;}#sk-container-id-1 div.sk-estimator:hover {background-color: #d4ebff;}#sk-container-id-1 div.sk-parallel-item::after {content: \"\";width: 100%;border-bottom: 1px solid gray;flex-grow: 1;}#sk-container-id-1 div.sk-label:hover label.sk-toggleable__label {background-color: #d4ebff;}#sk-container-id-1 div.sk-serial::before {content: \"\";position: absolute;border-left: 1px solid gray;box-sizing: border-box;top: 0;bottom: 0;left: 50%;z-index: 0;}#sk-container-id-1 div.sk-serial {display: flex;flex-direction: column;align-items: center;background-color: white;padding-right: 0.2em;padding-left: 0.2em;position: relative;}#sk-container-id-1 div.sk-item {position: relative;z-index: 1;}#sk-container-id-1 div.sk-parallel {display: flex;align-items: stretch;justify-content: center;background-color: white;position: relative;}#sk-container-id-1 div.sk-item::before, #sk-container-id-1 div.sk-parallel-item::before {content: \"\";position: absolute;border-left: 1px solid gray;box-sizing: border-box;top: 0;bottom: 0;left: 50%;z-index: -1;}#sk-container-id-1 div.sk-parallel-item {display: flex;flex-direction: column;z-index: 1;position: relative;background-color: white;}#sk-container-id-1 div.sk-parallel-item:first-child::after {align-self: flex-end;width: 50%;}#sk-container-id-1 div.sk-parallel-item:last-child::after {align-self: flex-start;width: 50%;}#sk-container-id-1 div.sk-parallel-item:only-child::after {width: 0;}#sk-container-id-1 div.sk-dashed-wrapped {border: 1px dashed gray;margin: 0 0.4em 0.5em 0.4em;box-sizing: border-box;padding-bottom: 0.4em;background-color: white;}#sk-container-id-1 div.sk-label label {font-family: monospace;font-weight: bold;display: inline-block;line-height: 1.2em;}#sk-container-id-1 div.sk-label-container {text-align: center;}#sk-container-id-1 div.sk-container {/* jupyter's `normalize.less` sets `[hidden] { display: none; }` but bootstrap.min.css set `[hidden] { display: none !important; }` so we also need the `!important` here to be able to override the default hidden behavior on the sphinx rendered scikit-learn.org. See: https://github.com/scikit-learn/scikit-learn/issues/21755 */display: inline-block !important;position: relative;}#sk-container-id-1 div.sk-text-repr-fallback {display: none;}</style><div id=\"sk-container-id-1\" class=\"sk-top-container\"><div class=\"sk-text-repr-fallback\"><pre>RandomForestRegressor(max_depth=78, max_features=&#x27;sqrt&#x27;, min_samples_leaf=2,\n",
              "                      min_samples_split=12, n_estimators=172, random_state=42)</pre><b>In a Jupyter environment, please rerun this cell to show the HTML representation or trust the notebook. <br />On GitHub, the HTML representation is unable to render, please try loading this page with nbviewer.org.</b></div><div class=\"sk-container\" hidden><div class=\"sk-item\"><div class=\"sk-estimator sk-toggleable\"><input class=\"sk-toggleable__control sk-hidden--visually\" id=\"sk-estimator-id-1\" type=\"checkbox\" checked><label for=\"sk-estimator-id-1\" class=\"sk-toggleable__label sk-toggleable__label-arrow\">RandomForestRegressor</label><div class=\"sk-toggleable__content\"><pre>RandomForestRegressor(max_depth=78, max_features=&#x27;sqrt&#x27;, min_samples_leaf=2,\n",
              "                      min_samples_split=12, n_estimators=172, random_state=42)</pre></div></div></div></div></div>"
            ],
            "text/plain": [
              "RandomForestRegressor(max_depth=78, max_features='sqrt', min_samples_leaf=2,\n",
              "                      min_samples_split=12, n_estimators=172, random_state=42)"
            ]
          },
          "execution_count": 20,
          "metadata": {},
          "output_type": "execute_result"
        }
      ],
      "source": [
        "n_iter = 2\n",
        "n_splits = 5\n",
        "\n",
        "date_column = 'event_start_year'\n",
        "target_column = 'attendance'\n",
        "\n",
        "print(f\"Data size: {round(df_to_ml.shape[0])}\")\n",
        "print(f\"Number of iterations: {n_iter}\")\n",
        "\n",
        "tscv_with_weighted_best_model(df_to_ml, date_column, n_splits, target_column, models,  n_iter, model_params)"
      ]
    },
    {
      "cell_type": "markdown",
      "metadata": {},
      "source": [
        "The best model is **RandomForestRegressor**, so we can concentrate on it with more iterations:"
      ]
    },
    {
      "cell_type": "code",
      "execution_count": 21,
      "metadata": {},
      "outputs": [],
      "source": [
        "model_params_2 = {\n",
        "\n",
        "    'RandomForestRegressor': {\n",
        "        'n_estimators': randint(50, 500),\n",
        "        'max_depth': randint(10, 100),\n",
        "        'min_samples_split': randint(2, 20),\n",
        "        'min_samples_leaf': randint(1, 10),\n",
        "        'max_features': ['sqrt', 'log2'],\n",
        "    },\n",
        "\n",
        "}\n",
        "\n",
        "models_2={\n",
        "        'RandomForestRegressor': RandomForestRegressor(),\n",
        "         }"
      ]
    },
    {
      "cell_type": "code",
      "execution_count": 23,
      "metadata": {},
      "outputs": [
        {
          "name": "stdout",
          "output_type": "stream",
          "text": [
            "Data size: 352509\n",
            "Number of iterations: 100\n",
            "Starting models training and evaluation with TimeSeriesSplit\n",
            "\n",
            "Training and Evaluating RandomForestRegressor:\n",
            "Best params for RandomForestRegressor: {'max_depth': 27, 'max_features': 'sqrt', 'min_samples_leaf': 1, 'min_samples_split': 4, 'n_estimators': 382}\n",
            "Weighted R² Score for RandomForestRegressor: 0.8837\n",
            "\n",
            "Final selected model: RandomForestRegressor with weighted R² Score: 0.8837\n",
            "Total training time: 5306.99 seconds\n",
            "✅ Model saved in: c:\\Users\\ingde\\Documents\\DAP\\PRCF_Reservation\\models\\best_model.pkl\n"
          ]
        },
        {
          "data": {
            "text/html": [
              "<style>#sk-container-id-2 {color: black;}#sk-container-id-2 pre{padding: 0;}#sk-container-id-2 div.sk-toggleable {background-color: white;}#sk-container-id-2 label.sk-toggleable__label {cursor: pointer;display: block;width: 100%;margin-bottom: 0;padding: 0.3em;box-sizing: border-box;text-align: center;}#sk-container-id-2 label.sk-toggleable__label-arrow:before {content: \"▸\";float: left;margin-right: 0.25em;color: #696969;}#sk-container-id-2 label.sk-toggleable__label-arrow:hover:before {color: black;}#sk-container-id-2 div.sk-estimator:hover label.sk-toggleable__label-arrow:before {color: black;}#sk-container-id-2 div.sk-toggleable__content {max-height: 0;max-width: 0;overflow: hidden;text-align: left;background-color: #f0f8ff;}#sk-container-id-2 div.sk-toggleable__content pre {margin: 0.2em;color: black;border-radius: 0.25em;background-color: #f0f8ff;}#sk-container-id-2 input.sk-toggleable__control:checked~div.sk-toggleable__content {max-height: 200px;max-width: 100%;overflow: auto;}#sk-container-id-2 input.sk-toggleable__control:checked~label.sk-toggleable__label-arrow:before {content: \"▾\";}#sk-container-id-2 div.sk-estimator input.sk-toggleable__control:checked~label.sk-toggleable__label {background-color: #d4ebff;}#sk-container-id-2 div.sk-label input.sk-toggleable__control:checked~label.sk-toggleable__label {background-color: #d4ebff;}#sk-container-id-2 input.sk-hidden--visually {border: 0;clip: rect(1px 1px 1px 1px);clip: rect(1px, 1px, 1px, 1px);height: 1px;margin: -1px;overflow: hidden;padding: 0;position: absolute;width: 1px;}#sk-container-id-2 div.sk-estimator {font-family: monospace;background-color: #f0f8ff;border: 1px dotted black;border-radius: 0.25em;box-sizing: border-box;margin-bottom: 0.5em;}#sk-container-id-2 div.sk-estimator:hover {background-color: #d4ebff;}#sk-container-id-2 div.sk-parallel-item::after {content: \"\";width: 100%;border-bottom: 1px solid gray;flex-grow: 1;}#sk-container-id-2 div.sk-label:hover label.sk-toggleable__label {background-color: #d4ebff;}#sk-container-id-2 div.sk-serial::before {content: \"\";position: absolute;border-left: 1px solid gray;box-sizing: border-box;top: 0;bottom: 0;left: 50%;z-index: 0;}#sk-container-id-2 div.sk-serial {display: flex;flex-direction: column;align-items: center;background-color: white;padding-right: 0.2em;padding-left: 0.2em;position: relative;}#sk-container-id-2 div.sk-item {position: relative;z-index: 1;}#sk-container-id-2 div.sk-parallel {display: flex;align-items: stretch;justify-content: center;background-color: white;position: relative;}#sk-container-id-2 div.sk-item::before, #sk-container-id-2 div.sk-parallel-item::before {content: \"\";position: absolute;border-left: 1px solid gray;box-sizing: border-box;top: 0;bottom: 0;left: 50%;z-index: -1;}#sk-container-id-2 div.sk-parallel-item {display: flex;flex-direction: column;z-index: 1;position: relative;background-color: white;}#sk-container-id-2 div.sk-parallel-item:first-child::after {align-self: flex-end;width: 50%;}#sk-container-id-2 div.sk-parallel-item:last-child::after {align-self: flex-start;width: 50%;}#sk-container-id-2 div.sk-parallel-item:only-child::after {width: 0;}#sk-container-id-2 div.sk-dashed-wrapped {border: 1px dashed gray;margin: 0 0.4em 0.5em 0.4em;box-sizing: border-box;padding-bottom: 0.4em;background-color: white;}#sk-container-id-2 div.sk-label label {font-family: monospace;font-weight: bold;display: inline-block;line-height: 1.2em;}#sk-container-id-2 div.sk-label-container {text-align: center;}#sk-container-id-2 div.sk-container {/* jupyter's `normalize.less` sets `[hidden] { display: none; }` but bootstrap.min.css set `[hidden] { display: none !important; }` so we also need the `!important` here to be able to override the default hidden behavior on the sphinx rendered scikit-learn.org. See: https://github.com/scikit-learn/scikit-learn/issues/21755 */display: inline-block !important;position: relative;}#sk-container-id-2 div.sk-text-repr-fallback {display: none;}</style><div id=\"sk-container-id-2\" class=\"sk-top-container\"><div class=\"sk-text-repr-fallback\"><pre>RandomForestRegressor(max_depth=27, max_features=&#x27;sqrt&#x27;, min_samples_split=4,\n",
              "                      n_estimators=382)</pre><b>In a Jupyter environment, please rerun this cell to show the HTML representation or trust the notebook. <br />On GitHub, the HTML representation is unable to render, please try loading this page with nbviewer.org.</b></div><div class=\"sk-container\" hidden><div class=\"sk-item\"><div class=\"sk-estimator sk-toggleable\"><input class=\"sk-toggleable__control sk-hidden--visually\" id=\"sk-estimator-id-2\" type=\"checkbox\" checked><label for=\"sk-estimator-id-2\" class=\"sk-toggleable__label sk-toggleable__label-arrow\">RandomForestRegressor</label><div class=\"sk-toggleable__content\"><pre>RandomForestRegressor(max_depth=27, max_features=&#x27;sqrt&#x27;, min_samples_split=4,\n",
              "                      n_estimators=382)</pre></div></div></div></div></div>"
            ],
            "text/plain": [
              "RandomForestRegressor(max_depth=27, max_features='sqrt', min_samples_split=4,\n",
              "                      n_estimators=382)"
            ]
          },
          "execution_count": 23,
          "metadata": {},
          "output_type": "execute_result"
        }
      ],
      "source": [
        "n_iter = 100\n",
        "n_splits = 9\n",
        "\n",
        "date_column = 'event_start_year'\n",
        "target_column = 'attendance'\n",
        "\n",
        "print(f\"Data size: {round(df_to_ml.shape[0])}\")\n",
        "print(f\"Number of iterations: {n_iter}\")\n",
        "\n",
        "tscv_with_weighted_best_model(df_to_ml, date_column, n_splits, target_column, models_2,  n_iter, model_params_2)"
      ]
    }
  ],
  "metadata": {
    "accelerator": "GPU",
    "colab": {
      "gpuType": "T4",
      "provenance": []
    },
    "kernelspec": {
      "display_name": "DAP",
      "language": "python",
      "name": "python3"
    },
    "language_info": {
      "codemirror_mode": {
        "name": "ipython",
        "version": 3
      },
      "file_extension": ".py",
      "mimetype": "text/x-python",
      "name": "python",
      "nbconvert_exporter": "python",
      "pygments_lexer": "ipython3",
      "version": "3.11.5"
    }
  },
  "nbformat": 4,
  "nbformat_minor": 0
}
