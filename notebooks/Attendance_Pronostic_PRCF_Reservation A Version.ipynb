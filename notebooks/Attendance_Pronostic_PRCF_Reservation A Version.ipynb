{
  "cells": [
    {
      "cell_type": "markdown",
      "metadata": {
        "id": "dgQ0wxJ0wi_c"
      },
      "source": [
        "<h1 align=\"center\">MACHINE LEARNING CLASSIFICATION MODEL FOR PCRF RESERVATIONS</h1>"
      ]
    },
    {
      "cell_type": "markdown",
      "metadata": {
        "id": "kTTLulPZwi_f"
      },
      "source": [
        "After viewing and analyzing the data, we can (and should) create a classification Machine Learning model. We need to extract, clean, and process the data to find the best model for the classification job."
      ]
    },
    {
      "cell_type": "markdown",
      "metadata": {
        "id": "R5EPKdZGwi_g"
      },
      "source": [
        "## IMPORTING LIBRARIES"
      ]
    },
    {
      "cell_type": "markdown",
      "metadata": {
        "id": "r1T9y4fowi_h"
      },
      "source": [
        "We'll import the necessary libraries for preprocessing, creating and evaluating the Machine Learning classification model:"
      ]
    },
    {
      "cell_type": "code",
      "execution_count": 1,
      "metadata": {
        "colab": {
          "base_uri": "https://localhost:8080/"
        },
        "id": "9j1laO8kwi_h",
        "outputId": "e97d1687-6a5e-487e-bf12-9b05733a66c0"
      },
      "outputs": [],
      "source": [
        "import os\n",
        "from time import time\n",
        "import numpy as np\n",
        "import pandas as pd\n",
        "import joblib\n",
        "from sklearn.preprocessing import LabelEncoder\n",
        "from sklearn.preprocessing import StandardScaler\n",
        "from sklearn.model_selection import RandomizedSearchCV, TimeSeriesSplit\n",
        "from scipy.stats import randint, uniform\n",
        "from sklearn.linear_model import LinearRegression, Ridge, Lasso, ElasticNet\n",
        "from sklearn.ensemble import RandomForestRegressor\n",
        "from xgboost import XGBRegressor\n",
        "from sklearn.metrics import r2_score\n",
        "import warnings"
      ]
    },
    {
      "cell_type": "code",
      "execution_count": 2,
      "metadata": {
        "id": "UoJ7kIkfwi_j"
      },
      "outputs": [],
      "source": [
        "pd.set_option('display.max_columns', None)"
      ]
    },
    {
      "cell_type": "code",
      "execution_count": 3,
      "metadata": {
        "id": "Gq5WVx7Wwi_k"
      },
      "outputs": [],
      "source": [
        "warnings.filterwarnings(\"ignore\")"
      ]
    },
    {
      "cell_type": "markdown",
      "metadata": {
        "id": "vHwUkqFxwi_l"
      },
      "source": [
        "## EXTRACTING THE DATA"
      ]
    },
    {
      "cell_type": "markdown",
      "metadata": {
        "id": "njnyX9cHwi_m"
      },
      "source": [
        "Let's read df_filtered file for construct our model:"
      ]
    },
    {
      "cell_type": "code",
      "execution_count": 4,
      "metadata": {
        "id": "r6dS6QYYwi_n"
      },
      "outputs": [],
      "source": [
        "project_dir = os.path.abspath(os.path.join(os.getcwd(), os.pardir))\n",
        "data_dir = os.path.join(project_dir, \"data\", \"processed\")\n",
        "path = os.path.join(data_dir, 'df_filtered.csv')\n",
        "df = pd.read_csv(path)"
      ]
    },
    {
      "cell_type": "code",
      "execution_count": 5,
      "metadata": {
        "colab": {
          "base_uri": "https://localhost:8080/",
          "height": 233
        },
        "id": "QdZkYUzAwi_o",
        "outputId": "28be2ffa-f1e6-48ea-8b10-168ccb2d3b89"
      },
      "outputs": [
        {
          "data": {
            "text/html": [
              "<div>\n",
              "<style scoped>\n",
              "    .dataframe tbody tr th:only-of-type {\n",
              "        vertical-align: middle;\n",
              "    }\n",
              "\n",
              "    .dataframe tbody tr th {\n",
              "        vertical-align: top;\n",
              "    }\n",
              "\n",
              "    .dataframe thead th {\n",
              "        text-align: right;\n",
              "    }\n",
              "</style>\n",
              "<table border=\"1\" class=\"dataframe\">\n",
              "  <thead>\n",
              "    <tr style=\"text-align: right;\">\n",
              "      <th></th>\n",
              "      <th>index</th>\n",
              "      <th>facility_name</th>\n",
              "      <th>facility_type</th>\n",
              "      <th>center_longitude</th>\n",
              "      <th>center_latitude</th>\n",
              "      <th>site_name</th>\n",
              "      <th>permit_year</th>\n",
              "      <th>permit_month</th>\n",
              "      <th>event_start_year</th>\n",
              "      <th>event_start_month</th>\n",
              "      <th>event_start_time</th>\n",
              "      <th>day_of_week</th>\n",
              "      <th>attendance</th>\n",
              "      <th>hours_reserved</th>\n",
              "      <th>schedule_type</th>\n",
              "      <th>residency_flag</th>\n",
              "      <th>customer_gender</th>\n",
              "      <th>permit_hour</th>\n",
              "      <th>event_start_mounth_numeric</th>\n",
              "      <th>event_start_day_numeric</th>\n",
              "      <th>event_end_day_numeric</th>\n",
              "      <th>event_duration</th>\n",
              "      <th>day_of_week_numeric</th>\n",
              "      <th>permit_month_numeric</th>\n",
              "    </tr>\n",
              "  </thead>\n",
              "  <tbody>\n",
              "    <tr>\n",
              "      <th>167825</th>\n",
              "      <td>167825</td>\n",
              "      <td>Tennis Court 07 (MTPC)</td>\n",
              "      <td>Court - Tennis</td>\n",
              "      <td>-111.741478</td>\n",
              "      <td>33.449963</td>\n",
              "      <td>Mesa Tennis &amp; Pickleball Center</td>\n",
              "      <td>2019</td>\n",
              "      <td>August</td>\n",
              "      <td>2020</td>\n",
              "      <td>February</td>\n",
              "      <td>1900-01-01 10:30:00</td>\n",
              "      <td>Wednesday</td>\n",
              "      <td>4</td>\n",
              "      <td>2.00</td>\n",
              "      <td>Reservation: Billable</td>\n",
              "      <td>False</td>\n",
              "      <td>Female</td>\n",
              "      <td>12</td>\n",
              "      <td>2</td>\n",
              "      <td>5</td>\n",
              "      <td>5</td>\n",
              "      <td>2.00</td>\n",
              "      <td>3</td>\n",
              "      <td>8</td>\n",
              "    </tr>\n",
              "    <tr>\n",
              "      <th>289839</th>\n",
              "      <td>289839</td>\n",
              "      <td>Tennis Court 08 (MTPC)</td>\n",
              "      <td>Court - Tennis</td>\n",
              "      <td>-111.741478</td>\n",
              "      <td>33.449963</td>\n",
              "      <td>Mesa Tennis &amp; Pickleball Center</td>\n",
              "      <td>2019</td>\n",
              "      <td>December</td>\n",
              "      <td>2020</td>\n",
              "      <td>February</td>\n",
              "      <td>1900-01-01 18:30:00</td>\n",
              "      <td>Thursday</td>\n",
              "      <td>4</td>\n",
              "      <td>2.50</td>\n",
              "      <td>Reservation: Billable</td>\n",
              "      <td>True</td>\n",
              "      <td>Female</td>\n",
              "      <td>14</td>\n",
              "      <td>2</td>\n",
              "      <td>20</td>\n",
              "      <td>20</td>\n",
              "      <td>2.50</td>\n",
              "      <td>4</td>\n",
              "      <td>12</td>\n",
              "    </tr>\n",
              "    <tr>\n",
              "      <th>119186</th>\n",
              "      <td>119186</td>\n",
              "      <td>Group Fitness</td>\n",
              "      <td>Room - Fitness</td>\n",
              "      <td>-111.662972</td>\n",
              "      <td>33.432725</td>\n",
              "      <td>Recreation Centers</td>\n",
              "      <td>2019</td>\n",
              "      <td>June</td>\n",
              "      <td>2020</td>\n",
              "      <td>September</td>\n",
              "      <td>1900-01-01 12:00:00</td>\n",
              "      <td>Tuesday</td>\n",
              "      <td>1</td>\n",
              "      <td>0.75</td>\n",
              "      <td>Reservation: Internal</td>\n",
              "      <td>False</td>\n",
              "      <td>Mixed</td>\n",
              "      <td>11</td>\n",
              "      <td>9</td>\n",
              "      <td>1</td>\n",
              "      <td>1</td>\n",
              "      <td>0.75</td>\n",
              "      <td>2</td>\n",
              "      <td>6</td>\n",
              "    </tr>\n",
              "  </tbody>\n",
              "</table>\n",
              "</div>"
            ],
            "text/plain": [
              "         index           facility_name   facility_type  center_longitude  \\\n",
              "167825  167825  Tennis Court 07 (MTPC)  Court - Tennis       -111.741478   \n",
              "289839  289839  Tennis Court 08 (MTPC)  Court - Tennis       -111.741478   \n",
              "119186  119186           Group Fitness  Room - Fitness       -111.662972   \n",
              "\n",
              "        center_latitude                        site_name  permit_year  \\\n",
              "167825        33.449963  Mesa Tennis & Pickleball Center         2019   \n",
              "289839        33.449963  Mesa Tennis & Pickleball Center         2019   \n",
              "119186        33.432725               Recreation Centers         2019   \n",
              "\n",
              "       permit_month  event_start_year event_start_month     event_start_time  \\\n",
              "167825       August              2020          February  1900-01-01 10:30:00   \n",
              "289839     December              2020          February  1900-01-01 18:30:00   \n",
              "119186         June              2020         September  1900-01-01 12:00:00   \n",
              "\n",
              "       day_of_week  attendance  hours_reserved          schedule_type  \\\n",
              "167825   Wednesday           4            2.00  Reservation: Billable   \n",
              "289839    Thursday           4            2.50  Reservation: Billable   \n",
              "119186     Tuesday           1            0.75  Reservation: Internal   \n",
              "\n",
              "        residency_flag customer_gender  permit_hour  \\\n",
              "167825           False          Female           12   \n",
              "289839            True          Female           14   \n",
              "119186           False           Mixed           11   \n",
              "\n",
              "        event_start_mounth_numeric  event_start_day_numeric  \\\n",
              "167825                           2                        5   \n",
              "289839                           2                       20   \n",
              "119186                           9                        1   \n",
              "\n",
              "        event_end_day_numeric  event_duration  day_of_week_numeric  \\\n",
              "167825                      5            2.00                    3   \n",
              "289839                     20            2.50                    4   \n",
              "119186                      1            0.75                    2   \n",
              "\n",
              "        permit_month_numeric  \n",
              "167825                     8  \n",
              "289839                    12  \n",
              "119186                     6  "
            ]
          },
          "execution_count": 5,
          "metadata": {},
          "output_type": "execute_result"
        }
      ],
      "source": [
        "df.sample(3)"
      ]
    },
    {
      "cell_type": "code",
      "execution_count": 6,
      "metadata": {
        "colab": {
          "base_uri": "https://localhost:8080/"
        },
        "id": "EMGyqzM0wi_p",
        "outputId": "a4983f42-44d0-43a2-e9bb-f59db7b3daa4"
      },
      "outputs": [
        {
          "data": {
            "text/plain": [
              "(434216, 24)"
            ]
          },
          "execution_count": 6,
          "metadata": {},
          "output_type": "execute_result"
        }
      ],
      "source": [
        "df.shape"
      ]
    },
    {
      "cell_type": "markdown",
      "metadata": {
        "id": "5RF8-j30wi_q"
      },
      "source": [
        "## DATA PREPROCESSING"
      ]
    },
    {
      "cell_type": "markdown",
      "metadata": {
        "id": "Ehe-8213wi_q"
      },
      "source": [
        "For our model, we need to drop the columns that don't add value, reduce the outliers, transform the numeric variables to categorical, and reduce variable dimensions"
      ]
    },
    {
      "cell_type": "markdown",
      "metadata": {
        "id": "4OfoXFXdwi_r"
      },
      "source": [
        "### DROPING THE COLUMNS"
      ]
    },
    {
      "cell_type": "markdown",
      "metadata": {
        "id": "-ainITxswi_r"
      },
      "source": [
        "Let's see the columns (again):"
      ]
    },
    {
      "cell_type": "code",
      "execution_count": 7,
      "metadata": {
        "colab": {
          "base_uri": "https://localhost:8080/",
          "height": 215
        },
        "id": "IZEKnS_Lwi_s",
        "outputId": "2451c18d-359d-4151-aad1-4461a257d699"
      },
      "outputs": [
        {
          "data": {
            "text/html": [
              "<div>\n",
              "<style scoped>\n",
              "    .dataframe tbody tr th:only-of-type {\n",
              "        vertical-align: middle;\n",
              "    }\n",
              "\n",
              "    .dataframe tbody tr th {\n",
              "        vertical-align: top;\n",
              "    }\n",
              "\n",
              "    .dataframe thead th {\n",
              "        text-align: right;\n",
              "    }\n",
              "</style>\n",
              "<table border=\"1\" class=\"dataframe\">\n",
              "  <thead>\n",
              "    <tr style=\"text-align: right;\">\n",
              "      <th></th>\n",
              "      <th>index</th>\n",
              "      <th>facility_name</th>\n",
              "      <th>facility_type</th>\n",
              "      <th>center_longitude</th>\n",
              "      <th>center_latitude</th>\n",
              "      <th>site_name</th>\n",
              "      <th>permit_year</th>\n",
              "      <th>permit_month</th>\n",
              "      <th>event_start_year</th>\n",
              "      <th>event_start_month</th>\n",
              "      <th>event_start_time</th>\n",
              "      <th>day_of_week</th>\n",
              "      <th>attendance</th>\n",
              "      <th>hours_reserved</th>\n",
              "      <th>schedule_type</th>\n",
              "      <th>residency_flag</th>\n",
              "      <th>customer_gender</th>\n",
              "      <th>permit_hour</th>\n",
              "      <th>event_start_mounth_numeric</th>\n",
              "      <th>event_start_day_numeric</th>\n",
              "      <th>event_end_day_numeric</th>\n",
              "      <th>event_duration</th>\n",
              "      <th>day_of_week_numeric</th>\n",
              "      <th>permit_month_numeric</th>\n",
              "    </tr>\n",
              "  </thead>\n",
              "  <tbody>\n",
              "    <tr>\n",
              "      <th>0</th>\n",
              "      <td>0</td>\n",
              "      <td>Group Fitness</td>\n",
              "      <td>Room - Fitness</td>\n",
              "      <td>-111.662972</td>\n",
              "      <td>33.432725</td>\n",
              "      <td>Recreation Centers</td>\n",
              "      <td>2019</td>\n",
              "      <td>June</td>\n",
              "      <td>2022</td>\n",
              "      <td>January</td>\n",
              "      <td>1900-01-01 10:00:00</td>\n",
              "      <td>Thursday</td>\n",
              "      <td>1</td>\n",
              "      <td>1.00</td>\n",
              "      <td>Reservation: Internal</td>\n",
              "      <td>False</td>\n",
              "      <td>Mixed</td>\n",
              "      <td>14</td>\n",
              "      <td>1</td>\n",
              "      <td>27</td>\n",
              "      <td>27</td>\n",
              "      <td>1.00</td>\n",
              "      <td>4</td>\n",
              "      <td>6</td>\n",
              "    </tr>\n",
              "    <tr>\n",
              "      <th>1</th>\n",
              "      <td>1</td>\n",
              "      <td>Group Fitness</td>\n",
              "      <td>Room - Fitness</td>\n",
              "      <td>-111.662972</td>\n",
              "      <td>33.432725</td>\n",
              "      <td>Recreation Centers</td>\n",
              "      <td>2019</td>\n",
              "      <td>June</td>\n",
              "      <td>2022</td>\n",
              "      <td>January</td>\n",
              "      <td>1900-01-01 11:00:00</td>\n",
              "      <td>Thursday</td>\n",
              "      <td>1</td>\n",
              "      <td>0.75</td>\n",
              "      <td>Reservation: Internal</td>\n",
              "      <td>False</td>\n",
              "      <td>Mixed</td>\n",
              "      <td>14</td>\n",
              "      <td>1</td>\n",
              "      <td>27</td>\n",
              "      <td>27</td>\n",
              "      <td>0.75</td>\n",
              "      <td>4</td>\n",
              "      <td>6</td>\n",
              "    </tr>\n",
              "    <tr>\n",
              "      <th>2</th>\n",
              "      <td>2</td>\n",
              "      <td>Group Fitness</td>\n",
              "      <td>Room - Fitness</td>\n",
              "      <td>-111.662972</td>\n",
              "      <td>33.432725</td>\n",
              "      <td>Recreation Centers</td>\n",
              "      <td>2019</td>\n",
              "      <td>June</td>\n",
              "      <td>2022</td>\n",
              "      <td>January</td>\n",
              "      <td>1900-01-01 12:00:00</td>\n",
              "      <td>Thursday</td>\n",
              "      <td>1</td>\n",
              "      <td>0.75</td>\n",
              "      <td>Reservation: Internal</td>\n",
              "      <td>False</td>\n",
              "      <td>Mixed</td>\n",
              "      <td>14</td>\n",
              "      <td>1</td>\n",
              "      <td>27</td>\n",
              "      <td>27</td>\n",
              "      <td>0.75</td>\n",
              "      <td>4</td>\n",
              "      <td>6</td>\n",
              "    </tr>\n",
              "  </tbody>\n",
              "</table>\n",
              "</div>"
            ],
            "text/plain": [
              "   index  facility_name   facility_type  center_longitude  center_latitude  \\\n",
              "0      0  Group Fitness  Room - Fitness       -111.662972        33.432725   \n",
              "1      1  Group Fitness  Room - Fitness       -111.662972        33.432725   \n",
              "2      2  Group Fitness  Room - Fitness       -111.662972        33.432725   \n",
              "\n",
              "            site_name  permit_year permit_month  event_start_year  \\\n",
              "0  Recreation Centers         2019         June              2022   \n",
              "1  Recreation Centers         2019         June              2022   \n",
              "2  Recreation Centers         2019         June              2022   \n",
              "\n",
              "  event_start_month     event_start_time day_of_week  attendance  \\\n",
              "0           January  1900-01-01 10:00:00    Thursday           1   \n",
              "1           January  1900-01-01 11:00:00    Thursday           1   \n",
              "2           January  1900-01-01 12:00:00    Thursday           1   \n",
              "\n",
              "   hours_reserved          schedule_type  residency_flag customer_gender  \\\n",
              "0            1.00  Reservation: Internal           False           Mixed   \n",
              "1            0.75  Reservation: Internal           False           Mixed   \n",
              "2            0.75  Reservation: Internal           False           Mixed   \n",
              "\n",
              "   permit_hour  event_start_mounth_numeric  event_start_day_numeric  \\\n",
              "0           14                           1                       27   \n",
              "1           14                           1                       27   \n",
              "2           14                           1                       27   \n",
              "\n",
              "   event_end_day_numeric  event_duration  day_of_week_numeric  \\\n",
              "0                     27            1.00                    4   \n",
              "1                     27            0.75                    4   \n",
              "2                     27            0.75                    4   \n",
              "\n",
              "   permit_month_numeric  \n",
              "0                     6  \n",
              "1                     6  \n",
              "2                     6  "
            ]
          },
          "execution_count": 7,
          "metadata": {},
          "output_type": "execute_result"
        }
      ],
      "source": [
        "df.head(3)"
      ]
    },
    {
      "cell_type": "markdown",
      "metadata": {
        "id": "ATBYAaQiwi_s"
      },
      "source": [
        "The columns 'index', 'facility_name', 'site_name, 'permit_year', 'permit_month', 'permit_hour', 'event_start_time', 'event_start_year', 'event_start_month','event_end_time', 'event_start_day_numeric', 'event_end_day_numeric', 'day_of_week',and  'permit_month_numeric' don't add value to the model, so we can drop them:"
      ]
    },
    {
      "cell_type": "code",
      "execution_count": 8,
      "metadata": {
        "id": "-kIe3VqQwi_t"
      },
      "outputs": [],
      "source": [
        "df.drop(columns = ['index', 'facility_name','site_name', 'event_start_time', 'event_start_month', 'permit_month',\n",
        "                    'event_start_day_numeric', 'event_end_day_numeric', 'day_of_week'], inplace=True)"
      ]
    },
    {
      "cell_type": "markdown",
      "metadata": {
        "id": "bzjwwusLwi_t"
      },
      "source": [
        "### REDUCING OUTLIERS"
      ]
    },
    {
      "cell_type": "markdown",
      "metadata": {
        "id": "ZPOpnCh7wi_u"
      },
      "source": [
        "In the EDA, we found that 'hours_reserved' has outliers that are greater than 22 hours. We can revisit this issue and remove these records (again)  :"
      ]
    },
    {
      "cell_type": "code",
      "execution_count": 9,
      "metadata": {
        "colab": {
          "base_uri": "https://localhost:8080/"
        },
        "id": "uibyBLgywi_u",
        "outputId": "dfa0063d-fa1d-4afd-b031-0fba9cbb94df"
      },
      "outputs": [
        {
          "data": {
            "text/plain": [
              "(434197, 15)"
            ]
          },
          "execution_count": 9,
          "metadata": {},
          "output_type": "execute_result"
        }
      ],
      "source": [
        "df_2 = df[df['hours_reserved']<=20]\n",
        "df_2.shape"
      ]
    },
    {
      "cell_type": "markdown",
      "metadata": {
        "id": "CAZRhKEywi_u"
      },
      "source": [
        "In the same way, we can use the attendance filter extrating records smaller than 100:\n"
      ]
    },
    {
      "cell_type": "code",
      "execution_count": 10,
      "metadata": {
        "colab": {
          "base_uri": "https://localhost:8080/"
        },
        "id": "GHP-DrFnwi_v",
        "outputId": "894d278a-553c-4275-abff-042f6ccb711e"
      },
      "outputs": [
        {
          "data": {
            "text/plain": [
              "(373533, 15)"
            ]
          },
          "execution_count": 10,
          "metadata": {},
          "output_type": "execute_result"
        }
      ],
      "source": [
        "df_3 = df_2[df_2['attendance']<=50]\n",
        "df_3.shape"
      ]
    },
    {
      "cell_type": "markdown",
      "metadata": {
        "id": "zlhZrH74wi_v"
      },
      "source": [
        "### TRANSFORMING IN NUMERIC VALUES"
      ]
    },
    {
      "cell_type": "markdown",
      "metadata": {
        "id": "vz600grEwi_w"
      },
      "source": [
        "In order not to make the dataset bigger, we will use Label Encoding functionality:"
      ]
    },
    {
      "cell_type": "code",
      "execution_count": 11,
      "metadata": {
        "id": "J3RPHdPQwi_w"
      },
      "outputs": [],
      "source": [
        "le= LabelEncoder()"
      ]
    },
    {
      "cell_type": "code",
      "execution_count": 12,
      "metadata": {
        "id": "SZPrryCEwi_w"
      },
      "outputs": [],
      "source": [
        "def label_encoder_function(dataframe, column):\n",
        "    column_encoded = le.fit_transform(dataframe[column])\n",
        "    return column_encoded\n",
        "\n",
        "def add_nwe_column(dataframe, column):\n",
        "    dataframe.loc[:,f'{column}_numeric']= label_encoder_function(dataframe, column)\n",
        "    return dataframe"
      ]
    },
    {
      "cell_type": "code",
      "execution_count": 13,
      "metadata": {
        "colab": {
          "base_uri": "https://localhost:8080/"
        },
        "id": "b_9dvUazwi_x",
        "outputId": "86d7f626-68a0-4e45-a140-2535e270a069"
      },
      "outputs": [
        {
          "data": {
            "text/plain": [
              "(373533, 19)"
            ]
          },
          "execution_count": 13,
          "metadata": {},
          "output_type": "execute_result"
        }
      ],
      "source": [
        "add_nwe_column(df_3, 'facility_type')\n",
        "add_nwe_column(df_3, 'schedule_type')\n",
        "add_nwe_column(df_3, 'residency_flag')\n",
        "add_nwe_column(df_3, 'customer_gender')\n",
        "df_3.shape"
      ]
    },
    {
      "cell_type": "markdown",
      "metadata": {
        "id": "K_X8et_owi_x"
      },
      "source": [
        "Now we must drop the old ones:"
      ]
    },
    {
      "cell_type": "code",
      "execution_count": 14,
      "metadata": {
        "colab": {
          "base_uri": "https://localhost:8080/"
        },
        "id": "bYPJjfsNwi_y",
        "outputId": "343adbbe-6441-4771-9c47-303a4cba9939"
      },
      "outputs": [
        {
          "data": {
            "text/plain": [
              "(373533, 15)"
            ]
          },
          "execution_count": 14,
          "metadata": {},
          "output_type": "execute_result"
        }
      ],
      "source": [
        "df_3 = df_3.drop(columns=['facility_type', 'schedule_type', 'residency_flag', 'customer_gender'])\n",
        "df_3.shape"
      ]
    },
    {
      "cell_type": "code",
      "execution_count": 15,
      "metadata": {
        "colab": {
          "base_uri": "https://localhost:8080/",
          "height": 163
        },
        "id": "hPcKZfjLAgOA",
        "outputId": "735ccf34-b9ed-4e53-b552-48f83c832c8a"
      },
      "outputs": [
        {
          "data": {
            "text/html": [
              "<div>\n",
              "<style scoped>\n",
              "    .dataframe tbody tr th:only-of-type {\n",
              "        vertical-align: middle;\n",
              "    }\n",
              "\n",
              "    .dataframe tbody tr th {\n",
              "        vertical-align: top;\n",
              "    }\n",
              "\n",
              "    .dataframe thead th {\n",
              "        text-align: right;\n",
              "    }\n",
              "</style>\n",
              "<table border=\"1\" class=\"dataframe\">\n",
              "  <thead>\n",
              "    <tr style=\"text-align: right;\">\n",
              "      <th></th>\n",
              "      <th>center_longitude</th>\n",
              "      <th>center_latitude</th>\n",
              "      <th>permit_year</th>\n",
              "      <th>event_start_year</th>\n",
              "      <th>attendance</th>\n",
              "      <th>hours_reserved</th>\n",
              "      <th>permit_hour</th>\n",
              "      <th>event_start_mounth_numeric</th>\n",
              "      <th>event_duration</th>\n",
              "      <th>day_of_week_numeric</th>\n",
              "      <th>permit_month_numeric</th>\n",
              "      <th>facility_type_numeric</th>\n",
              "      <th>schedule_type_numeric</th>\n",
              "      <th>residency_flag_numeric</th>\n",
              "      <th>customer_gender_numeric</th>\n",
              "    </tr>\n",
              "  </thead>\n",
              "  <tbody>\n",
              "    <tr>\n",
              "      <th>374376</th>\n",
              "      <td>-111.662972</td>\n",
              "      <td>33.432725</td>\n",
              "      <td>2023</td>\n",
              "      <td>2023</td>\n",
              "      <td>10</td>\n",
              "      <td>0.9167</td>\n",
              "      <td>9</td>\n",
              "      <td>6</td>\n",
              "      <td>0.916667</td>\n",
              "      <td>3</td>\n",
              "      <td>5</td>\n",
              "      <td>48</td>\n",
              "      <td>1</td>\n",
              "      <td>1</td>\n",
              "      <td>3</td>\n",
              "    </tr>\n",
              "    <tr>\n",
              "      <th>370123</th>\n",
              "      <td>-111.741478</td>\n",
              "      <td>33.449963</td>\n",
              "      <td>2023</td>\n",
              "      <td>2024</td>\n",
              "      <td>2</td>\n",
              "      <td>1.0000</td>\n",
              "      <td>13</td>\n",
              "      <td>1</td>\n",
              "      <td>1.000000</td>\n",
              "      <td>4</td>\n",
              "      <td>11</td>\n",
              "      <td>11</td>\n",
              "      <td>2</td>\n",
              "      <td>0</td>\n",
              "      <td>3</td>\n",
              "    </tr>\n",
              "    <tr>\n",
              "      <th>309929</th>\n",
              "      <td>-111.612456</td>\n",
              "      <td>33.399881</td>\n",
              "      <td>2017</td>\n",
              "      <td>2018</td>\n",
              "      <td>30</td>\n",
              "      <td>3.0000</td>\n",
              "      <td>17</td>\n",
              "      <td>2</td>\n",
              "      <td>3.000000</td>\n",
              "      <td>1</td>\n",
              "      <td>11</td>\n",
              "      <td>39</td>\n",
              "      <td>0</td>\n",
              "      <td>1</td>\n",
              "      <td>1</td>\n",
              "    </tr>\n",
              "  </tbody>\n",
              "</table>\n",
              "</div>"
            ],
            "text/plain": [
              "        center_longitude  center_latitude  permit_year  event_start_year  \\\n",
              "374376       -111.662972        33.432725         2023              2023   \n",
              "370123       -111.741478        33.449963         2023              2024   \n",
              "309929       -111.612456        33.399881         2017              2018   \n",
              "\n",
              "        attendance  hours_reserved  permit_hour  event_start_mounth_numeric  \\\n",
              "374376          10          0.9167            9                           6   \n",
              "370123           2          1.0000           13                           1   \n",
              "309929          30          3.0000           17                           2   \n",
              "\n",
              "        event_duration  day_of_week_numeric  permit_month_numeric  \\\n",
              "374376        0.916667                    3                     5   \n",
              "370123        1.000000                    4                    11   \n",
              "309929        3.000000                    1                    11   \n",
              "\n",
              "        facility_type_numeric  schedule_type_numeric  residency_flag_numeric  \\\n",
              "374376                     48                      1                       1   \n",
              "370123                     11                      2                       0   \n",
              "309929                     39                      0                       1   \n",
              "\n",
              "        customer_gender_numeric  \n",
              "374376                        3  \n",
              "370123                        3  \n",
              "309929                        1  "
            ]
          },
          "execution_count": 15,
          "metadata": {},
          "output_type": "execute_result"
        }
      ],
      "source": [
        "df_3.sample(3)"
      ]
    },
    {
      "cell_type": "markdown",
      "metadata": {
        "id": "QYV96GTMwjAD"
      },
      "source": [
        "## GENERATING A PRONOSTIC MACHINE LEARNING MODEL"
      ]
    },
    {
      "cell_type": "markdown",
      "metadata": {
        "id": "WFxS_0Z6wi_z"
      },
      "source": [
        "### FUNCTION TO PREPARE DATA"
      ]
    },
    {
      "cell_type": "markdown",
      "metadata": {
        "id": "rmJ7jc8o7pF3"
      },
      "source": [
        "We'll create a function that splits the data for time series, standardizes the scale, trains models, and save the model with the best accuracy:"
      ]
    },
    {
      "cell_type": "code",
      "execution_count": null,
      "metadata": {
        "id": "dli9QDXcaOeh"
      },
      "outputs": [],
      "source": [
        "def tscv_with_weighted_best_model(df, date_column, n_splits, target_column, models, n_iter, param_distributions):\n",
        "    df = df.sort_values(by=date_column, ascending=True)\n",
        "    \n",
        "    tscv = TimeSeriesSplit(n_splits=n_splits)\n",
        "    scaler = StandardScaler()\n",
        "    \n",
        "    split_number = 1\n",
        "    model_scores = {name: [] for name in models.keys()}\n",
        "    training_times = {name: [] for name in models.keys()}\n",
        "\n",
        "    total_start_time = time() \n",
        "    \n",
        "    for train_index, test_index in tscv.split(df):\n",
        "        print(f\"\\n🔹 Split {split_number}\")\n",
        "\n",
        "        train, test = df.iloc[train_index], df.iloc[test_index]\n",
        "        X_train, X_test = train.drop(columns=[date_column, target_column]), test.drop(columns=[date_column, target_column])\n",
        "        y_train, y_test = train[target_column], test[target_column]\n",
        "\n",
        "        X_train_scaled = scaler.fit_transform(X_train)\n",
        "        X_test_scaled = scaler.transform(X_test)      \n",
        "        \n",
        "        for name, model in models.items():\n",
        "            print(f\"\\nEvaluating {name}:\")\n",
        "            start_time = time()\n",
        "            \n",
        "            random_search = RandomizedSearchCV(model, param_distributions=param_distributions[name], n_iter=n_iter, cv=5,\n",
        "                                               scoring='r2', n_jobs=8)\n",
        "            random_search.fit(X_train_scaled, y_train)\n",
        "            \n",
        "            best_candidate = random_search.best_estimator_\n",
        "            y_pred = best_candidate.predict(X_test_scaled)\n",
        "            r2 = r2_score(y_test, y_pred)\n",
        "            \n",
        "            print(f\" Best R² Score ({name}): {r2:.4f}\")\n",
        "            \n",
        "            model_scores[name].append(r2)\n",
        "            training_times[name].append(time() - start_time)\n",
        "        \n",
        "        split_number += 1\n",
        "    \n",
        "\n",
        "    weights = np.linspace(0, 1, num=n_splits) \n",
        "    weighted_scores = {name: np.average(model_scores[name], weights=weights) for name in models.keys()}\n",
        "    \n",
        "    \n",
        "    best_overall_model_name = max(weighted_scores, key=weighted_scores.get)\n",
        "    best_overall_model = models[best_overall_model_name]\n",
        "    \n",
        "    total_training_time = time() - total_start_time\n",
        "\n",
        "    print(\"\\n📊 Weighted Scores Calculation:\")\n",
        "    for name, score in weighted_scores.items():\n",
        "        print(f\" {name}: {score:.4f} (weighted)\")\n",
        "    \n",
        "    print(f\"\\n🎯 The best overall model is {best_overall_model_name} with weighted R² Score: {weighted_scores[best_overall_model_name]:.4f}\")\n",
        "\n",
        "    print(f\"\\n⏳ Total training time: {total_training_time:.2f} seconds\")\n",
        "    \n",
        "    project_dir = os.path.abspath(os.path.join(os.getcwd(), os.pardir))\n",
        "    model_dir = os.path.join(project_dir, \"models\")\n",
        "    os.makedirs(model_dir, exist_ok=True)\n",
        "    \n",
        "    best_model_path = os.path.join(model_dir, \"best_weighted_model.pkl\")\n",
        "    joblib.dump(best_overall_model, best_model_path)\n",
        "    print(f\"✅ Model saved in: {best_model_path}\")\n",
        "    \n",
        "    return best_overall_model\n"
      ]
    },
    {
      "cell_type": "markdown",
      "metadata": {
        "id": "dlb9UiASwjAD"
      },
      "source": [
        "We'll create a function that uses several machine learning regression models to find the best fit without presenting overfitting:"
      ]
    },
    {
      "cell_type": "markdown",
      "metadata": {
        "id": "vv1WdViEwjAE"
      },
      "source": [
        "Now, let's define the models and their hyperparameter search spaces:"
      ]
    },
    {
      "cell_type": "code",
      "execution_count": 17,
      "metadata": {
        "id": "Qzva3jOsWqMJ"
      },
      "outputs": [],
      "source": [
        "model_params = {\n",
        "    'LinearRegression': {},\n",
        "\n",
        "    'Ridge': {\n",
        "        'alpha': uniform(0.1, 10),\n",
        "        'solver': ['auto', 'svd', 'lsqr', 'sparse_cg', 'sag'],\n",
        "        'max_iter': randint(100, 1000),\n",
        "        'tol': uniform(1e-6, 1e-2),\n",
        "    },\n",
        "\n",
        "    'Lasso': {\n",
        "        'alpha': uniform(0.1, 10),\n",
        "        'tol': uniform(1e-6, 1e-2),\n",
        "        'selection': ['cyclic', 'random']\n",
        "    },\n",
        "\n",
        "    'ElasticNet': {\n",
        "        'alpha': uniform(0.1, 10),\n",
        "        'l1_ratio': uniform(0, 1),\n",
        "        'tol': uniform(1e-6, 1e-2),\n",
        "        'selection': ['cyclic', 'random']\n",
        "    },\n",
        "    'RandomForestRegressor': {\n",
        "        'n_estimators': randint(50, 500),\n",
        "        'max_depth': randint(10, 100),\n",
        "        'min_samples_split': randint(2, 20),\n",
        "        'min_samples_leaf': randint(1, 10),\n",
        "        'max_features': ['sqrt', 'log2'],\n",
        "    },\n",
        "\n",
        "    'XGBRegressor': {\n",
        "        'n_estimators': randint(50, 500),\n",
        "        'learning_rate': uniform(0.01, 0.3),\n",
        "        'max_depth': randint(3, 10),\n",
        "        'min_child_weight': randint(1, 10),\n",
        "        'gamma': uniform(0, 1),\n",
        "        'subsample': uniform(0.1, 1),\n",
        "        'colsample_bytree': uniform(0.1,0.8),\n",
        "        'reg_alpha': uniform(0, 1),\n",
        "        'reg_lambda': uniform(0, 1),\n",
        "    }\n",
        "\n",
        "}\n",
        "\n",
        "models={'LinearRegression': LinearRegression(),\n",
        "        'Ridge': Ridge(random_state=42),        \n",
        "        'Lasso': Lasso(random_state=42),\n",
        "        'ElasticNet': ElasticNet(random_state=42),\n",
        "        'RandomForestRegressor': RandomForestRegressor(random_state=42),\n",
        "        'XGBRegressor': XGBRegressor(tree_method='gpu_hist', device='cuda:0',random_state=42)\n",
        "         }"
      ]
    },
    {
      "cell_type": "markdown",
      "metadata": {
        "id": "0MBO8crlwjAF"
      },
      "source": [
        "Now, let's train and evaluate the models to find the best model. For training time series models, we must remove the first and last years to have complete data:"
      ]
    },
    {
      "cell_type": "code",
      "execution_count": 18,
      "metadata": {},
      "outputs": [
        {
          "name": "stdout",
          "output_type": "stream",
          "text": [
            "event_start_year\n",
            "2023    57577\n",
            "2022    55407\n",
            "2021    52674\n",
            "2019    35149\n",
            "2015    32795\n",
            "2020    31327\n",
            "2016    30875\n",
            "2017    28970\n",
            "2018    27735\n",
            "Name: count, dtype: int64\n"
          ]
        }
      ],
      "source": [
        "df_to_ml = df_3[(df_3[\"event_start_year\"] > 2014) & (df_3[\"event_start_year\"] < 2024)]\n",
        "print(df_to_ml[\"event_start_year\"].value_counts())"
      ]
    },
    {
      "cell_type": "code",
      "execution_count": 19,
      "metadata": {},
      "outputs": [
        {
          "data": {
            "text/plain": [
              "(352509, 15)"
            ]
          },
          "execution_count": 19,
          "metadata": {},
          "output_type": "execute_result"
        }
      ],
      "source": [
        "df_to_ml.shape"
      ]
    },
    {
      "cell_type": "markdown",
      "metadata": {},
      "source": [
        "We have to use fewer iterations to find the best model using the created function:"
      ]
    },
    {
      "cell_type": "code",
      "execution_count": 20,
      "metadata": {},
      "outputs": [
        {
          "name": "stdout",
          "output_type": "stream",
          "text": [
            "Data size: 352509\n",
            "Number of iterations: 2\n",
            "\n",
            "🔹 Split 1\n",
            "\n",
            "Evaluating LinearRegression:\n",
            " Best R² Score (LinearRegression): 0.1261\n",
            "\n",
            "Evaluating Ridge:\n",
            " Best R² Score (Ridge): 0.1261\n",
            "\n",
            "Evaluating Lasso:\n",
            " Best R² Score (Lasso): 0.1701\n",
            "\n",
            "Evaluating ElasticNet:\n",
            " Best R² Score (ElasticNet): 0.1698\n",
            "\n",
            "Evaluating RandomForestRegressor:\n",
            " Best R² Score (RandomForestRegressor): 0.5524\n",
            "\n",
            "Evaluating XGBRegressor:\n",
            " Best R² Score (XGBRegressor): 0.4094\n",
            "\n",
            "🔹 Split 2\n",
            "\n",
            "Evaluating LinearRegression:\n",
            " Best R² Score (LinearRegression): -0.2087\n",
            "\n",
            "Evaluating Ridge:\n",
            " Best R² Score (Ridge): -0.2102\n",
            "\n",
            "Evaluating Lasso:\n",
            " Best R² Score (Lasso): -0.0755\n",
            "\n",
            "Evaluating ElasticNet:\n",
            " Best R² Score (ElasticNet): -0.1162\n",
            "\n",
            "Evaluating RandomForestRegressor:\n",
            " Best R² Score (RandomForestRegressor): 0.5251\n",
            "\n",
            "Evaluating XGBRegressor:\n",
            " Best R² Score (XGBRegressor): 0.4805\n",
            "\n",
            "🔹 Split 3\n",
            "\n",
            "Evaluating LinearRegression:\n",
            " Best R² Score (LinearRegression): 0.0025\n",
            "\n",
            "Evaluating Ridge:\n",
            " Best R² Score (Ridge): 0.0020\n",
            "\n",
            "Evaluating Lasso:\n",
            " Best R² Score (Lasso): -0.0019\n",
            "\n",
            "Evaluating ElasticNet:\n",
            " Best R² Score (ElasticNet): -0.0073\n",
            "\n",
            "Evaluating RandomForestRegressor:\n",
            " Best R² Score (RandomForestRegressor): 0.6541\n",
            "\n",
            "Evaluating XGBRegressor:\n",
            " Best R² Score (XGBRegressor): 0.6454\n",
            "\n",
            "🔹 Split 4\n",
            "\n",
            "Evaluating LinearRegression:\n",
            " Best R² Score (LinearRegression): 0.1678\n",
            "\n",
            "Evaluating Ridge:\n",
            " Best R² Score (Ridge): 0.1675\n",
            "\n",
            "Evaluating Lasso:\n",
            " Best R² Score (Lasso): -0.1032\n",
            "\n",
            "Evaluating ElasticNet:\n",
            " Best R² Score (ElasticNet): 0.1724\n",
            "\n",
            "Evaluating RandomForestRegressor:\n",
            " Best R² Score (RandomForestRegressor): 0.7513\n",
            "\n",
            "Evaluating XGBRegressor:\n",
            " Best R² Score (XGBRegressor): 0.6972\n",
            "\n",
            "🔹 Split 5\n",
            "\n",
            "Evaluating LinearRegression:\n",
            " Best R² Score (LinearRegression): 0.0807\n",
            "\n",
            "Evaluating Ridge:\n",
            " Best R² Score (Ridge): 0.0799\n",
            "\n",
            "Evaluating Lasso:\n",
            " Best R² Score (Lasso): -0.1904\n",
            "\n",
            "Evaluating ElasticNet:\n",
            " Best R² Score (ElasticNet): -0.1542\n",
            "\n",
            "Evaluating RandomForestRegressor:\n",
            " Best R² Score (RandomForestRegressor): 0.7130\n",
            "\n",
            "Evaluating XGBRegressor:\n",
            " Best R² Score (XGBRegressor): 0.6903\n",
            "\n",
            "📊 Weighted Scores Calculation:\n",
            " LinearRegression: 0.0622 (weighted)\n",
            " Ridge: 0.0616 (weighted)\n",
            " Lasso: -0.1150 (weighted)\n",
            " ElasticNet: -0.0230 (weighted)\n",
            " RandomForestRegressor: 0.6939 (weighted)\n",
            " XGBRegressor: 0.6624 (weighted)\n",
            "\n",
            "🎯 The best overall model is RandomForestRegressor with weighted R² Score: 0.6939\n",
            "\n",
            "⏳ Total training time: 907.46 seconds\n",
            "✅ Model saved in: c:\\Users\\ingde\\Documents\\DAP\\PRCF_Reservation - Copy\\models\\best_weighted_model.pkl\n"
          ]
        },
        {
          "data": {
            "text/html": [
              "<style>#sk-container-id-1 {color: black;}#sk-container-id-1 pre{padding: 0;}#sk-container-id-1 div.sk-toggleable {background-color: white;}#sk-container-id-1 label.sk-toggleable__label {cursor: pointer;display: block;width: 100%;margin-bottom: 0;padding: 0.3em;box-sizing: border-box;text-align: center;}#sk-container-id-1 label.sk-toggleable__label-arrow:before {content: \"▸\";float: left;margin-right: 0.25em;color: #696969;}#sk-container-id-1 label.sk-toggleable__label-arrow:hover:before {color: black;}#sk-container-id-1 div.sk-estimator:hover label.sk-toggleable__label-arrow:before {color: black;}#sk-container-id-1 div.sk-toggleable__content {max-height: 0;max-width: 0;overflow: hidden;text-align: left;background-color: #f0f8ff;}#sk-container-id-1 div.sk-toggleable__content pre {margin: 0.2em;color: black;border-radius: 0.25em;background-color: #f0f8ff;}#sk-container-id-1 input.sk-toggleable__control:checked~div.sk-toggleable__content {max-height: 200px;max-width: 100%;overflow: auto;}#sk-container-id-1 input.sk-toggleable__control:checked~label.sk-toggleable__label-arrow:before {content: \"▾\";}#sk-container-id-1 div.sk-estimator input.sk-toggleable__control:checked~label.sk-toggleable__label {background-color: #d4ebff;}#sk-container-id-1 div.sk-label input.sk-toggleable__control:checked~label.sk-toggleable__label {background-color: #d4ebff;}#sk-container-id-1 input.sk-hidden--visually {border: 0;clip: rect(1px 1px 1px 1px);clip: rect(1px, 1px, 1px, 1px);height: 1px;margin: -1px;overflow: hidden;padding: 0;position: absolute;width: 1px;}#sk-container-id-1 div.sk-estimator {font-family: monospace;background-color: #f0f8ff;border: 1px dotted black;border-radius: 0.25em;box-sizing: border-box;margin-bottom: 0.5em;}#sk-container-id-1 div.sk-estimator:hover {background-color: #d4ebff;}#sk-container-id-1 div.sk-parallel-item::after {content: \"\";width: 100%;border-bottom: 1px solid gray;flex-grow: 1;}#sk-container-id-1 div.sk-label:hover label.sk-toggleable__label {background-color: #d4ebff;}#sk-container-id-1 div.sk-serial::before {content: \"\";position: absolute;border-left: 1px solid gray;box-sizing: border-box;top: 0;bottom: 0;left: 50%;z-index: 0;}#sk-container-id-1 div.sk-serial {display: flex;flex-direction: column;align-items: center;background-color: white;padding-right: 0.2em;padding-left: 0.2em;position: relative;}#sk-container-id-1 div.sk-item {position: relative;z-index: 1;}#sk-container-id-1 div.sk-parallel {display: flex;align-items: stretch;justify-content: center;background-color: white;position: relative;}#sk-container-id-1 div.sk-item::before, #sk-container-id-1 div.sk-parallel-item::before {content: \"\";position: absolute;border-left: 1px solid gray;box-sizing: border-box;top: 0;bottom: 0;left: 50%;z-index: -1;}#sk-container-id-1 div.sk-parallel-item {display: flex;flex-direction: column;z-index: 1;position: relative;background-color: white;}#sk-container-id-1 div.sk-parallel-item:first-child::after {align-self: flex-end;width: 50%;}#sk-container-id-1 div.sk-parallel-item:last-child::after {align-self: flex-start;width: 50%;}#sk-container-id-1 div.sk-parallel-item:only-child::after {width: 0;}#sk-container-id-1 div.sk-dashed-wrapped {border: 1px dashed gray;margin: 0 0.4em 0.5em 0.4em;box-sizing: border-box;padding-bottom: 0.4em;background-color: white;}#sk-container-id-1 div.sk-label label {font-family: monospace;font-weight: bold;display: inline-block;line-height: 1.2em;}#sk-container-id-1 div.sk-label-container {text-align: center;}#sk-container-id-1 div.sk-container {/* jupyter's `normalize.less` sets `[hidden] { display: none; }` but bootstrap.min.css set `[hidden] { display: none !important; }` so we also need the `!important` here to be able to override the default hidden behavior on the sphinx rendered scikit-learn.org. See: https://github.com/scikit-learn/scikit-learn/issues/21755 */display: inline-block !important;position: relative;}#sk-container-id-1 div.sk-text-repr-fallback {display: none;}</style><div id=\"sk-container-id-1\" class=\"sk-top-container\"><div class=\"sk-text-repr-fallback\"><pre>RandomForestRegressor(random_state=42)</pre><b>In a Jupyter environment, please rerun this cell to show the HTML representation or trust the notebook. <br />On GitHub, the HTML representation is unable to render, please try loading this page with nbviewer.org.</b></div><div class=\"sk-container\" hidden><div class=\"sk-item\"><div class=\"sk-estimator sk-toggleable\"><input class=\"sk-toggleable__control sk-hidden--visually\" id=\"sk-estimator-id-1\" type=\"checkbox\" checked><label for=\"sk-estimator-id-1\" class=\"sk-toggleable__label sk-toggleable__label-arrow\">RandomForestRegressor</label><div class=\"sk-toggleable__content\"><pre>RandomForestRegressor(random_state=42)</pre></div></div></div></div></div>"
            ],
            "text/plain": [
              "RandomForestRegressor(random_state=42)"
            ]
          },
          "execution_count": 20,
          "metadata": {},
          "output_type": "execute_result"
        }
      ],
      "source": [
        "n_iter = 2\n",
        "n_splits = 5\n",
        "\n",
        "date_column = 'event_start_year'\n",
        "target_column = 'attendance'\n",
        "\n",
        "print(f\"Data size: {round(df_to_ml.shape[0])}\")\n",
        "print(f\"Number of iterations: {n_iter}\")\n",
        "\n",
        "tscv_with_weighted_best_model(df_to_ml, date_column, n_splits, target_column, models,  n_iter, model_params)"
      ]
    },
    {
      "cell_type": "markdown",
      "metadata": {},
      "source": [
        "The best model is **RandomForestRegressor**, so we can concentrate on it with more iterations:"
      ]
    },
    {
      "cell_type": "code",
      "execution_count": 21,
      "metadata": {},
      "outputs": [],
      "source": [
        "model_params_2 = {\n",
        "\n",
        "    'RandomForestRegressor': {\n",
        "        'n_estimators': randint(50, 500),\n",
        "        'max_depth': randint(10, 100),\n",
        "        'min_samples_split': randint(2, 20),\n",
        "        'min_samples_leaf': randint(1, 10),\n",
        "        'max_features': ['sqrt', 'log2'],\n",
        "    },\n",
        "\n",
        "}\n",
        "\n",
        "models_2={\n",
        "        'RandomForestRegressor': RandomForestRegressor(),\n",
        "         }"
      ]
    },
    {
      "cell_type": "code",
      "execution_count": 26,
      "metadata": {},
      "outputs": [
        {
          "name": "stdout",
          "output_type": "stream",
          "text": [
            "Data size: 352509\n",
            "Number of iterations: 20\n",
            "\n",
            "🔹 Split 1\n",
            "\n",
            "Evaluating RandomForestRegressor:\n",
            " Best R² Score (RandomForestRegressor): 0.6707\n",
            "\n",
            "🔹 Split 2\n",
            "\n",
            "Evaluating RandomForestRegressor:\n",
            " Best R² Score (RandomForestRegressor): 0.7753\n",
            "\n",
            "🔹 Split 3\n",
            "\n",
            "Evaluating RandomForestRegressor:\n",
            " Best R² Score (RandomForestRegressor): 0.6666\n",
            "\n",
            "🔹 Split 4\n",
            "\n",
            "Evaluating RandomForestRegressor:\n",
            " Best R² Score (RandomForestRegressor): 0.6478\n",
            "\n",
            "🔹 Split 5\n",
            "\n",
            "Evaluating RandomForestRegressor:\n",
            " Best R² Score (RandomForestRegressor): 0.6357\n",
            "\n",
            "🔹 Split 6\n",
            "\n",
            "Evaluating RandomForestRegressor:\n",
            " Best R² Score (RandomForestRegressor): 0.7844\n",
            "\n",
            "🔹 Split 7\n",
            "\n",
            "Evaluating RandomForestRegressor:\n",
            " Best R² Score (RandomForestRegressor): 0.6141\n",
            "\n",
            "🔹 Split 8\n",
            "\n",
            "Evaluating RandomForestRegressor:\n",
            " Best R² Score (RandomForestRegressor): 0.6184\n",
            "\n",
            "🔹 Split 9\n",
            "\n",
            "Evaluating RandomForestRegressor:\n",
            " Best R² Score (RandomForestRegressor): 0.8473\n",
            "\n",
            "🔹 Split 10\n",
            "\n",
            "Evaluating RandomForestRegressor:\n",
            " Best R² Score (RandomForestRegressor): 0.8904\n",
            "\n",
            "🔹 Split 11\n",
            "\n",
            "Evaluating RandomForestRegressor:\n",
            " Best R² Score (RandomForestRegressor): 0.7674\n",
            "\n",
            "🔹 Split 12\n",
            "\n",
            "Evaluating RandomForestRegressor:\n",
            " Best R² Score (RandomForestRegressor): 0.9042\n",
            "\n",
            "🔹 Split 13\n",
            "\n",
            "Evaluating RandomForestRegressor:\n",
            " Best R² Score (RandomForestRegressor): 0.7886\n",
            "\n",
            "🔹 Split 14\n",
            "\n",
            "Evaluating RandomForestRegressor:\n",
            " Best R² Score (RandomForestRegressor): 0.8666\n",
            "\n",
            "🔹 Split 15\n",
            "\n",
            "Evaluating RandomForestRegressor:\n",
            " Best R² Score (RandomForestRegressor): 0.8863\n",
            "\n",
            "📊 Weighted Scores Calculation:\n",
            " RandomForestRegressor: 0.8007 (weighted)\n",
            "\n",
            "🎯 The best overall model is RandomForestRegressor with weighted R² Score: 0.8007\n",
            "\n",
            "⏳ Total training time: 10662.56 seconds\n",
            "✅ Model saved in: c:\\Users\\ingde\\Documents\\DAP\\PRCF_Reservation - Copy\\models\\best_weighted_model.pkl\n"
          ]
        },
        {
          "data": {
            "text/html": [
              "<style>#sk-container-id-5 {color: black;}#sk-container-id-5 pre{padding: 0;}#sk-container-id-5 div.sk-toggleable {background-color: white;}#sk-container-id-5 label.sk-toggleable__label {cursor: pointer;display: block;width: 100%;margin-bottom: 0;padding: 0.3em;box-sizing: border-box;text-align: center;}#sk-container-id-5 label.sk-toggleable__label-arrow:before {content: \"▸\";float: left;margin-right: 0.25em;color: #696969;}#sk-container-id-5 label.sk-toggleable__label-arrow:hover:before {color: black;}#sk-container-id-5 div.sk-estimator:hover label.sk-toggleable__label-arrow:before {color: black;}#sk-container-id-5 div.sk-toggleable__content {max-height: 0;max-width: 0;overflow: hidden;text-align: left;background-color: #f0f8ff;}#sk-container-id-5 div.sk-toggleable__content pre {margin: 0.2em;color: black;border-radius: 0.25em;background-color: #f0f8ff;}#sk-container-id-5 input.sk-toggleable__control:checked~div.sk-toggleable__content {max-height: 200px;max-width: 100%;overflow: auto;}#sk-container-id-5 input.sk-toggleable__control:checked~label.sk-toggleable__label-arrow:before {content: \"▾\";}#sk-container-id-5 div.sk-estimator input.sk-toggleable__control:checked~label.sk-toggleable__label {background-color: #d4ebff;}#sk-container-id-5 div.sk-label input.sk-toggleable__control:checked~label.sk-toggleable__label {background-color: #d4ebff;}#sk-container-id-5 input.sk-hidden--visually {border: 0;clip: rect(1px 1px 1px 1px);clip: rect(1px, 1px, 1px, 1px);height: 1px;margin: -1px;overflow: hidden;padding: 0;position: absolute;width: 1px;}#sk-container-id-5 div.sk-estimator {font-family: monospace;background-color: #f0f8ff;border: 1px dotted black;border-radius: 0.25em;box-sizing: border-box;margin-bottom: 0.5em;}#sk-container-id-5 div.sk-estimator:hover {background-color: #d4ebff;}#sk-container-id-5 div.sk-parallel-item::after {content: \"\";width: 100%;border-bottom: 1px solid gray;flex-grow: 1;}#sk-container-id-5 div.sk-label:hover label.sk-toggleable__label {background-color: #d4ebff;}#sk-container-id-5 div.sk-serial::before {content: \"\";position: absolute;border-left: 1px solid gray;box-sizing: border-box;top: 0;bottom: 0;left: 50%;z-index: 0;}#sk-container-id-5 div.sk-serial {display: flex;flex-direction: column;align-items: center;background-color: white;padding-right: 0.2em;padding-left: 0.2em;position: relative;}#sk-container-id-5 div.sk-item {position: relative;z-index: 1;}#sk-container-id-5 div.sk-parallel {display: flex;align-items: stretch;justify-content: center;background-color: white;position: relative;}#sk-container-id-5 div.sk-item::before, #sk-container-id-5 div.sk-parallel-item::before {content: \"\";position: absolute;border-left: 1px solid gray;box-sizing: border-box;top: 0;bottom: 0;left: 50%;z-index: -1;}#sk-container-id-5 div.sk-parallel-item {display: flex;flex-direction: column;z-index: 1;position: relative;background-color: white;}#sk-container-id-5 div.sk-parallel-item:first-child::after {align-self: flex-end;width: 50%;}#sk-container-id-5 div.sk-parallel-item:last-child::after {align-self: flex-start;width: 50%;}#sk-container-id-5 div.sk-parallel-item:only-child::after {width: 0;}#sk-container-id-5 div.sk-dashed-wrapped {border: 1px dashed gray;margin: 0 0.4em 0.5em 0.4em;box-sizing: border-box;padding-bottom: 0.4em;background-color: white;}#sk-container-id-5 div.sk-label label {font-family: monospace;font-weight: bold;display: inline-block;line-height: 1.2em;}#sk-container-id-5 div.sk-label-container {text-align: center;}#sk-container-id-5 div.sk-container {/* jupyter's `normalize.less` sets `[hidden] { display: none; }` but bootstrap.min.css set `[hidden] { display: none !important; }` so we also need the `!important` here to be able to override the default hidden behavior on the sphinx rendered scikit-learn.org. See: https://github.com/scikit-learn/scikit-learn/issues/21755 */display: inline-block !important;position: relative;}#sk-container-id-5 div.sk-text-repr-fallback {display: none;}</style><div id=\"sk-container-id-5\" class=\"sk-top-container\"><div class=\"sk-text-repr-fallback\"><pre>RandomForestRegressor()</pre><b>In a Jupyter environment, please rerun this cell to show the HTML representation or trust the notebook. <br />On GitHub, the HTML representation is unable to render, please try loading this page with nbviewer.org.</b></div><div class=\"sk-container\" hidden><div class=\"sk-item\"><div class=\"sk-estimator sk-toggleable\"><input class=\"sk-toggleable__control sk-hidden--visually\" id=\"sk-estimator-id-5\" type=\"checkbox\" checked><label for=\"sk-estimator-id-5\" class=\"sk-toggleable__label sk-toggleable__label-arrow\">RandomForestRegressor</label><div class=\"sk-toggleable__content\"><pre>RandomForestRegressor()</pre></div></div></div></div></div>"
            ],
            "text/plain": [
              "RandomForestRegressor()"
            ]
          },
          "execution_count": 26,
          "metadata": {},
          "output_type": "execute_result"
        }
      ],
      "source": [
        "n_iter = 20\n",
        "n_splits = 15\n",
        "\n",
        "date_column = 'event_start_year'\n",
        "target_column = 'attendance'\n",
        "\n",
        "print(f\"Data size: {round(df_to_ml.shape[0])}\")\n",
        "print(f\"Number of iterations: {n_iter}\")\n",
        "\n",
        "tscv_with_weighted_best_model(df_to_ml, date_column, n_splits, target_column, models_2,  n_iter, model_params_2)"
      ]
    },
    {
      "cell_type": "markdown",
      "metadata": {},
      "source": [
        "We finally select the RandomForestRegressor model as the best model for the problem."
      ]
    }
  ],
  "metadata": {
    "accelerator": "GPU",
    "colab": {
      "gpuType": "T4",
      "provenance": []
    },
    "kernelspec": {
      "display_name": "DAP",
      "language": "python",
      "name": "python3"
    },
    "language_info": {
      "codemirror_mode": {
        "name": "ipython",
        "version": 3
      },
      "file_extension": ".py",
      "mimetype": "text/x-python",
      "name": "python",
      "nbconvert_exporter": "python",
      "pygments_lexer": "ipython3",
      "version": "3.11.5"
    }
  },
  "nbformat": 4,
  "nbformat_minor": 0
}
